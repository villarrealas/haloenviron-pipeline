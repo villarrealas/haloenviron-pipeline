{
 "cells": [
  {
   "cell_type": "code",
   "execution_count": 2,
   "metadata": {
    "collapsed": true
   },
   "outputs": [],
   "source": [
    "# required imports for the function here\n",
    "# some of these might be extraneous since they're just being grabbed from the total pipeline\n",
    "# but right now, we just need to make some catalogs!\n",
    "%matplotlib inline\n",
    "\n",
    "import numpy as np\n",
    "from numpy.lib.recfunctions import append_fields\n",
    "import matplotlib\n",
    "import matplotlib.pyplot as plt\n",
    "import scipy.stats as stats\n",
    "import halotools.mock_observables as mo\n",
    "import halotools.sim_manager as sm\n",
    "import astropy.coordinates as coord"
   ]
  },
  {
   "cell_type": "code",
   "execution_count": 16,
   "metadata": {
    "collapsed": false
   },
   "outputs": [
    {
     "name": "stdout",
     "output_type": "stream",
     "text": [
      "\n",
      "...Processing ASCII data of file: \n",
      "/data/asv13/projects/haloenviron-pipeline/l0250_d200b.catalog\n",
      " \n",
      "Total number of rows in detected data = 2342337\n",
      "Number of rows in detected header = 15 \n",
      "\n",
      "... working on chunk 0 of 1\n",
      "Total runtime to read in ASCII = 14.80 seconds\n",
      "\n",
      "\u0007\n",
      "\n",
      "...Processing ASCII data of file: \n",
      "/data/asv13/projects/haloenviron-pipeline/l0250_d70b.catalog\n",
      " \n",
      "Total number of rows in detected data = 2535889\n",
      "Number of rows in detected header = 15 \n",
      "\n",
      "... working on chunk 0 of 1\n",
      "Total runtime to read in ASCII = 14.67 seconds\n",
      "\n",
      "\u0007\n"
     ]
    }
   ],
   "source": [
    "fname = './l0250_d200b.catalog' # file name to z0.0.catalog\n",
    "mthresh = 7e11  # threshold mass in Msun/h\n",
    "gnewton = 4.302e-6\n",
    "lbox = 250.0\n",
    "vhost_min = 240.0\n",
    "vrat_frac = 0.3\n",
    "vsub_min = vhost_min * vrat_frac\n",
    "nrand = 10\n",
    "\n",
    "# define dict pointing to all marks of interest\n",
    "rs_dict = {'halo_id':(0,'i8'), 'halo_mass':(2,'f8'), 'halo_vmax':(3,'f8'), 'halo_rvir':(5,'f8'),\n",
    "           'halo_rs':(6,'f8'), 'halo_x':(8,'f8'), 'halo_y':(9,'f8'), 'halo_z':(10,'f8'),\n",
    "           'halo_spin':(17,'f8'), 'halo_ctoa':(28, 'f8'), 'halo_pid':(33,'i8')}\n",
    "\n",
    "reader = sm.TabularAsciiReader(fname, rs_dict, row_cut_min_dict={'halo_mass':mthresh},\n",
    "                               row_cut_eq_dict={'halo_pid':-1})\n",
    "hosts_data_master = reader.read_ascii()\n",
    "\n",
    "fname = './l0250_d70b.catalog' # file name to z0.0.catalog\n",
    "mthresh = 9e11  # threshold mass in Msun/h\n",
    "gnewton = 4.302e-6\n",
    "lbox = 250.0\n",
    "vhost_min = 240.0\n",
    "vrat_frac = 0.3\n",
    "vsub_min = vhost_min * vrat_frac\n",
    "nrand = 10\n",
    "\n",
    "# define dict pointing to all marks of interest\n",
    "rs_dict = {'halo_id':(0,'i8'), 'halo_mass':(2,'f8'), 'halo_vmax':(3,'f8'), 'halo_rvir':(5,'f8'),\n",
    "           'halo_rs':(6,'f8'), 'halo_x':(8,'f8'), 'halo_y':(9,'f8'), 'halo_z':(10,'f8'),\n",
    "           'halo_spin':(17,'f8'), 'halo_ctoa':(28, 'f8'), 'halo_pid':(33,'i8')}\n",
    "\n",
    "reader = sm.TabularAsciiReader(fname, rs_dict, row_cut_min_dict={'halo_mass':mthresh},\n",
    "                               row_cut_eq_dict={'halo_pid':-1})\n",
    "hosts_data_matching = reader.read_ascii()"
   ]
  },
  {
   "cell_type": "code",
   "execution_count": 17,
   "metadata": {
    "collapsed": false
   },
   "outputs": [],
   "source": [
    "c_master = coord.SkyCoord(x=hosts_data_master['halo_x'], y=hosts_data_master['halo_y'], z=hosts_data_master['halo_z'],\n",
    "                         unit='Mpc', frame='icrs', representation='cartesian')"
   ]
  },
  {
   "cell_type": "code",
   "execution_count": 18,
   "metadata": {
    "collapsed": false
   },
   "outputs": [],
   "source": [
    "c_matching = coord.SkyCoord(x=hosts_data_matching['halo_x'], y=hosts_data_matching['halo_y'], z=hosts_data_matching['halo_z'],\n",
    "                            unit='Mpc', frame='icrs', representation='cartesian')"
   ]
  },
  {
   "cell_type": "code",
   "execution_count": 19,
   "metadata": {
    "collapsed": true
   },
   "outputs": [],
   "source": [
    "idx, sep2d, sep3d = coord.match_coordinates_3d(c_matching, c_master)"
   ]
  },
  {
   "cell_type": "code",
   "execution_count": 7,
   "metadata": {
    "collapsed": false
   },
   "outputs": [
    {
     "data": {
      "text/plain": [
       "322.98859540235941"
      ]
     },
     "execution_count": 7,
     "metadata": {},
     "output_type": "execute_result"
    }
   ],
   "source": [
    "np.percentile(sep3d,70)"
   ]
  },
  {
   "cell_type": "code",
   "execution_count": 29,
   "metadata": {
    "collapsed": false
   },
   "outputs": [],
   "source": [
    "mask = (sep3d.value <= hosts_data_matching['halo_rvir']*.001*.1)\n",
    "othermask = idx[np.where(sep3d.value <= hosts_data_matching['halo_rvir']*.001*.1)]"
   ]
  },
  {
   "cell_type": "code",
   "execution_count": 30,
   "metadata": {
    "collapsed": false
   },
   "outputs": [
    {
     "data": {
      "text/plain": [
       "array([ True,  True,  True, ..., False, False, False], dtype=bool)"
      ]
     },
     "execution_count": 30,
     "metadata": {},
     "output_type": "execute_result"
    }
   ],
   "source": [
    "mask"
   ]
  },
  {
   "cell_type": "code",
   "execution_count": 31,
   "metadata": {
    "collapsed": false
   },
   "outputs": [
    {
     "name": "stdout",
     "output_type": "stream",
     "text": [
      "61268 55778\n"
     ]
    }
   ],
   "source": [
    "print len(mask), np.sum(mask)"
   ]
  },
  {
   "cell_type": "code",
   "execution_count": 32,
   "metadata": {
    "collapsed": false
   },
   "outputs": [],
   "source": [
    "matched_catalog = hosts_data_matching[np.where(mask==True)]\n",
    "matched_catalog_master = hosts_data_master[othermask]"
   ]
  },
  {
   "cell_type": "code",
   "execution_count": 33,
   "metadata": {
    "collapsed": false
   },
   "outputs": [
    {
     "data": {
      "text/plain": [
       "(55778, 55778)"
      ]
     },
     "execution_count": 33,
     "metadata": {},
     "output_type": "execute_result"
    }
   ],
   "source": [
    "len(matched_catalog), len(matched_catalog_master)"
   ]
  },
  {
   "cell_type": "code",
   "execution_count": 15,
   "metadata": {
    "collapsed": false
   },
   "outputs": [
    {
     "data": {
      "text/plain": [
       "124.93476"
      ]
     },
     "execution_count": 15,
     "metadata": {},
     "output_type": "execute_result"
    }
   ],
   "source": []
  },
  {
   "cell_type": "code",
   "execution_count": 35,
   "metadata": {
    "collapsed": false
   },
   "outputs": [
    {
     "data": {
      "text/plain": [
       "[<matplotlib.lines.Line2D at 0x7f56096861d0>]"
      ]
     },
     "execution_count": 35,
     "metadata": {},
     "output_type": "execute_result"
    },
    {
     "data": {
      "image/png": "[encoded data removed]",
      "text/plain": [
       "<matplotlib.figure.Figure at 0x7f5609a3be90>"
      ]
     },
     "metadata": {},
     "output_type": "display_data"
    }
   ],
   "source": [
    "plt.plot(matched_catalog['halo_mass'], matched_catalog['halo_rvir']/matched_catalog['halo_rs'],\n",
    "         'b.')\n",
    "plt.plot(matched_catalog_master['halo_mass'], matched_catalog_master['halo_rvir']/matched_catalog_master['halo_rs'],\n",
    "         'r.')"
   ]
  },
  {
   "cell_type": "code",
   "execution_count": 53,
   "metadata": {
    "collapsed": false
   },
   "outputs": [
    {
     "data": {
      "image/png": "[encoded data removed]",
      "text/plain": [
       "<matplotlib.figure.Figure at 0x7f560893abd0>"
      ]
     },
     "metadata": {},
     "output_type": "display_data"
    }
   ],
   "source": [
    "font = {'family' : 'normal',\n",
    "        'weight' : 'normal',\n",
    "        'size'   : 16}\n",
    "\n",
    "matplotlib.rc('font', **font)\n",
    "matplotlib.rcParams['lines.linewidth'] = 3\n",
    "\n",
    "total_bins = 10\n",
    "\n",
    "X1 = np.log10(matched_catalog['halo_mass'])\n",
    "Y1 = matched_catalog['halo_rvir']/matched_catalog['halo_rs']\n",
    "X2 = np.log10(matched_catalog_master['halo_mass'])\n",
    "Y2 = matched_catalog_master['halo_rvir']/matched_catalog_master['halo_rs']\n",
    "\n",
    "\n",
    "bins = np.linspace(X1.min(),X1.max(), total_bins)\n",
    "delta = bins[1]-bins[0]\n",
    "idx  = np.digitize(X1,bins)\n",
    "running_median = [np.median(Y1[idx==k]) for k in range(total_bins)]\n",
    "\n",
    "running_std    = [Y1[idx==k].std() for k in range(total_bins)]\n",
    "plt.errorbar(10**(bins-delta/2),running_median,\n",
    "              running_std, color='b', label=r'$\\Delta=200$', lw=2)\n",
    "\n",
    "bins = np.linspace(X2.min(),X2.max(), total_bins)\n",
    "delta = bins[1]-bins[0]\n",
    "idx  = np.digitize(X2,bins)\n",
    "running_median = [np.median(Y2[idx==k]) for k in range(total_bins)]\n",
    "\n",
    "running_std    = [Y2[idx==k].std() for k in range(total_bins)]\n",
    "plt.errorbar(10**(bins-delta/2),running_median,\n",
    "              running_std, color='r', label=r'$\\Delta=70$', lw=2)\n",
    "\n",
    "plt.xscale('log')\n",
    "plt.xlim(6e11,1e15)\n",
    "plt.ylim(0,35)\n",
    "plt.legend(loc='upper right', numpoints=1, prop={'size': 13}, title='Matched Catalogs')\n",
    "plt.xlabel(r'$M_{\\Delta} (h^{-1}\\mathrm{M}_{\\odot})$')\n",
    "plt.ylabel(r'$c_{\\mathrm{NFW}}$')\n",
    "plt.savefig('./FIGS/matched_catalog_cnfwcomp.pdf')"
   ]
  },
  {
   "cell_type": "code",
   "execution_count": null,
   "metadata": {
    "collapsed": true
   },
   "outputs": [],
   "source": []
  }
 ],
 "metadata": {
  "kernelspec": {
   "display_name": "Python 2",
   "language": "python",
   "name": "python2"
  },
  "language_info": {
   "codemirror_mode": {
    "name": "ipython",
    "version": 2
   },
   "file_extension": ".py",
   "mimetype": "text/x-python",
   "name": "python",
   "nbconvert_exporter": "python",
   "pygments_lexer": "ipython2",
   "version": "2.7.11"
  }
 },
 "nbformat": 4,
 "nbformat_minor": 0
}
