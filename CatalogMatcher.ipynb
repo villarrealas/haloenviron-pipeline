{
 "cells": [
  {
   "cell_type": "code",
   "execution_count": 2,
   "metadata": {
    "collapsed": true
   },
   "outputs": [],
   "source": [
    "# required imports for the function here\n",
    "# some of these might be extraneous since they're just being grabbed from the total pipeline\n",
    "# but right now, we just need to make some catalogs!\n",
    "%matplotlib inline\n",
    "\n",
    "import numpy as np\n",
    "from numpy.lib.recfunctions import append_fields\n",
    "import matplotlib\n",
    "import matplotlib.pyplot as plt\n",
    "import scipy.stats as stats\n",
    "import halotools.mock_observables as mo\n",
    "import halotools.sim_manager as sm\n",
    "import astropy.coordinates as coord"
   ]
  },
  {
   "cell_type": "code",
   "execution_count": 3,
   "metadata": {
    "collapsed": false
   },
   "outputs": [
    {
     "name": "stdout",
     "output_type": "stream",
     "text": [
      "\n",
      "...Processing ASCII data of file: \n",
      "/data/asv13/projects/haloenviron-pipeline/l0500_d340b.catalog\n",
      " \n",
      "Total number of rows in detected data = 2032025\n",
      "Number of rows in detected header = 15 \n",
      "\n",
      "... working on chunk 0 of 1\n",
      "Total runtime to read in ASCII = 13.26 seconds\n",
      "\n",
      "\u0007\n",
      "\n",
      "...Processing ASCII data of file: \n",
      "/data/asv13/projects/haloenviron-pipeline/l0500_d200b.catalog\n",
      " \n",
      "Total number of rows in detected data = 2881607\n",
      "Number of rows in detected header = 15 \n",
      "\n",
      "... working on chunk 0 of 1\n",
      "Total runtime to read in ASCII = 12.82 seconds\n",
      "\n",
      "\u0007\n"
     ]
    }
   ],
   "source": [
    "fname = './l0500_d340b.catalog' # file name to z0.0.catalog\n",
    "mthresh = 3e12  # threshold mass in Msun/h\n",
    "gnewton = 4.302e-6\n",
    "lbox = 500.0\n",
    "vhost_min = 240.0\n",
    "vrat_frac = 0.3\n",
    "vsub_min = vhost_min * vrat_frac\n",
    "nrand = 10\n",
    "\n",
    "# define dict pointing to all marks of interest\n",
    "rs_dict = {'halo_id':(0,'i8'), 'halo_mass':(2,'f8'), 'halo_vmax':(3,'f8'), 'halo_rvir':(5,'f8'),\n",
    "           'halo_rs':(6,'f8'), 'halo_x':(8,'f8'), 'halo_y':(9,'f8'), 'halo_z':(10,'f8'),\n",
    "           'halo_spin':(17,'f8'), 'halo_ctoa':(28, 'f8'), 'halo_pid':(33,'i8')}\n",
    "\n",
    "reader = sm.TabularAsciiReader(fname, rs_dict, row_cut_min_dict={'halo_mass':mthresh},\n",
    "                               row_cut_eq_dict={'halo_pid':-1})\n",
    "hosts_data_master = reader.read_ascii()\n",
    "\n",
    "fname = './l0500_d200b.catalog' # file name to z0.0.catalog\n",
    "mthresh = 4e12  # threshold mass in Msun/h\n",
    "gnewton = 4.302e-6\n",
    "lbox = 500.0\n",
    "vhost_min = 240.0\n",
    "vrat_frac = 0.3\n",
    "vsub_min = vhost_min * vrat_frac\n",
    "nrand = 10\n",
    "\n",
    "# define dict pointing to all marks of interest\n",
    "rs_dict = {'halo_id':(0,'i8'), 'halo_mass':(2,'f8'), 'halo_vmax':(3,'f8'), 'halo_rvir':(5,'f8'),\n",
    "           'halo_rs':(6,'f8'), 'halo_x':(8,'f8'), 'halo_y':(9,'f8'), 'halo_z':(10,'f8'),\n",
    "           'halo_spin':(17,'f8'), 'halo_ctoa':(28, 'f8'), 'halo_pid':(33,'i8')}\n",
    "\n",
    "reader = sm.TabularAsciiReader(fname, rs_dict, row_cut_min_dict={'halo_mass':mthresh},\n",
    "                               row_cut_eq_dict={'halo_pid':-1})\n",
    "hosts_data_matching = reader.read_ascii()"
   ]
  },
  {
   "cell_type": "code",
   "execution_count": 4,
   "metadata": {
    "collapsed": false
   },
   "outputs": [],
   "source": [
    "c_master = coord.SkyCoord(x=hosts_data_master['halo_x'], y=hosts_data_master['halo_y'], z=hosts_data_master['halo_z'],\n",
    "                         unit='Mpc', frame='icrs', representation='cartesian')"
   ]
  },
  {
   "cell_type": "code",
   "execution_count": 5,
   "metadata": {
    "collapsed": false
   },
   "outputs": [],
   "source": [
    "c_matching = coord.SkyCoord(x=hosts_data_matching['halo_x'], y=hosts_data_matching['halo_y'], z=hosts_data_matching['halo_z'],\n",
    "                            unit='Mpc', frame='icrs', representation='cartesian')"
   ]
  },
  {
   "cell_type": "code",
   "execution_count": 6,
   "metadata": {
    "collapsed": true
   },
   "outputs": [],
   "source": [
    "idx, sep2d, sep3d = coord.match_coordinates_3d(c_matching, c_master)"
   ]
  },
  {
   "cell_type": "code",
   "execution_count": 7,
   "metadata": {
    "collapsed": false
   },
   "outputs": [
    {
     "data": {
      "text/plain": [
       "322.98859540235941"
      ]
     },
     "execution_count": 7,
     "metadata": {},
     "output_type": "execute_result"
    }
   ],
   "source": [
    "np.percentile(sep3d,70)"
   ]
  },
  {
   "cell_type": "code",
   "execution_count": 8,
   "metadata": {
    "collapsed": false
   },
   "outputs": [],
   "source": [
    "mask = (sep3d.value <= hosts_data_matching['halo_rvir']*.001*.1)"
   ]
  },
  {
   "cell_type": "code",
   "execution_count": 9,
   "metadata": {
    "collapsed": false
   },
   "outputs": [
    {
     "data": {
      "text/plain": [
       "array([False, False, False, ..., False, False, False], dtype=bool)"
      ]
     },
     "execution_count": 9,
     "metadata": {},
     "output_type": "execute_result"
    }
   ],
   "source": [
    "mask"
   ]
  },
  {
   "cell_type": "code",
   "execution_count": 10,
   "metadata": {
    "collapsed": false
   },
   "outputs": [
    {
     "name": "stdout",
     "output_type": "stream",
     "text": [
      "99944 0\n"
     ]
    }
   ],
   "source": [
    "print len(mask), np.sum(mask)"
   ]
  },
  {
   "cell_type": "code",
   "execution_count": 11,
   "metadata": {
    "collapsed": true
   },
   "outputs": [],
   "source": [
    "matched_catalog = hosts_data_matching[np.where(mask==True)]"
   ]
  },
  {
   "cell_type": "code",
   "execution_count": 12,
   "metadata": {
    "collapsed": false
   },
   "outputs": [
    {
     "data": {
      "text/plain": [
       "0"
      ]
     },
     "execution_count": 12,
     "metadata": {},
     "output_type": "execute_result"
    }
   ],
   "source": [
    "len(matched_catalog)"
   ]
  },
  {
   "cell_type": "code",
   "execution_count": 15,
   "metadata": {
    "collapsed": false
   },
   "outputs": [
    {
     "data": {
      "text/plain": [
       "124.93476"
      ]
     },
     "execution_count": 15,
     "metadata": {},
     "output_type": "execute_result"
    }
   ],
   "source": []
  },
  {
   "cell_type": "code",
   "execution_count": null,
   "metadata": {
    "collapsed": true
   },
   "outputs": [],
   "source": []
  }
 ],
 "metadata": {
  "kernelspec": {
   "display_name": "Python 2",
   "language": "python",
   "name": "python2"
  },
  "language_info": {
   "codemirror_mode": {
    "name": "ipython",
    "version": 2
   },
   "file_extension": ".py",
   "mimetype": "text/x-python",
   "name": "python",
   "nbconvert_exporter": "python",
   "pygments_lexer": "ipython2",
   "version": "2.7.11"
  }
 },
 "nbformat": 4,
 "nbformat_minor": 0
}
