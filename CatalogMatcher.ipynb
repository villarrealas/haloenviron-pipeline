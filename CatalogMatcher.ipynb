{
 "cells": [
  {
   "cell_type": "code",
   "execution_count": 108,
   "metadata": {
    "collapsed": true
   },
   "outputs": [],
   "source": [
    "# required imports for the function here\n",
    "# some of these might be extraneous since they're just being grabbed from the total pipeline\n",
    "# but right now, we just need to make some catalogs!\n",
    "%matplotlib inline\n",
    "\n",
    "import numpy as np\n",
    "from numpy.lib.recfunctions import append_fields\n",
    "import matplotlib\n",
    "import matplotlib.pyplot as plt\n",
    "import halotools.mock_observables as mo\n",
    "import halotools.sim_manager as sm\n",
    "import astropy.coordinates as coord\n",
    "import scipy.stats as stats"
   ]
  },
  {
   "cell_type": "code",
   "execution_count": 64,
   "metadata": {
    "collapsed": false
   },
   "outputs": [
    {
     "name": "stdout",
     "output_type": "stream",
     "text": [
      "\n",
      "...Processing ASCII data of file: \n",
      "/data/asv13/projects/haloenviron-pipeline/l0250_d200b.catalog\n",
      " \n",
      "Total number of rows in detected data = 2501871\n",
      "Number of rows in detected header = 16 \n",
      "\n",
      "... working on chunk 0 of 1\n",
      "Total runtime to read in ASCII = 19.92 seconds\n",
      "\n",
      "\u0007\n",
      "\n",
      "...Processing ASCII data of file: \n",
      "/data/asv13/projects/haloenviron-pipeline/l0250_d100b.catalog\n",
      " \n",
      "Total number of rows in detected data = 2610326\n",
      "Number of rows in detected header = 16 \n",
      "\n",
      "... working on chunk 0 of 1\n",
      "Total runtime to read in ASCII = 21.35 seconds\n",
      "\n",
      "\u0007\n",
      "\n",
      "...Processing ASCII data of file: \n",
      "/data/asv13/projects/haloenviron-pipeline/l0250_d50b.catalog\n",
      " \n",
      "Total number of rows in detected data = 2692442\n",
      "Number of rows in detected header = 16 \n",
      "\n",
      "... working on chunk 0 of 1\n",
      "Total runtime to read in ASCII = 20.54 seconds\n",
      "\n",
      "\u0007\n",
      "\n",
      "...Processing ASCII data of file: \n",
      "/data/asv13/projects/haloenviron-pipeline/l0250_d60b.catalog\n",
      " \n",
      "Total number of rows in detected data = 2675191\n",
      "Number of rows in detected header = 16 \n",
      "\n",
      "... working on chunk 0 of 1\n",
      "Total runtime to read in ASCII = 21.88 seconds\n",
      "\n",
      "\u0007\n"
     ]
    }
   ],
   "source": [
    "fname = './l0250_d200b.catalog' # file name to z0.0.catalog\n",
    "mthresh = 7e11  # threshold mass in Msun/h\n",
    "gnewton = 4.302e-6\n",
    "lbox = 250.0\n",
    "vhost_min = 135.0\n",
    "vrat_frac = 0.3\n",
    "vsub_min = vhost_min * vrat_frac\n",
    "nrand = 100\n",
    "\n",
    "# define dict pointing to all marks of interest\n",
    "rs_dict = {'halo_id':(0,'i8'), 'halo_mass':(2,'f8'), 'halo_vmax':(3,'f8'), 'halo_rvir':(5,'f8'),\n",
    "           'halo_rs':(6,'f8'), 'halo_x':(8,'f8'), 'halo_y':(9,'f8'), 'halo_z':(10,'f8'),\n",
    "           'halo_spin':(17,'f8'), 'halo_ctoa':(28, 'f8'), 'halo_pid':(41,'i8')}\n",
    "\n",
    "reader = sm.TabularAsciiReader(fname, rs_dict, row_cut_min_dict={'halo_mass':mthresh},\n",
    "                               row_cut_neq_dict={'halo_pid':-1})\n",
    "hosts_data_matching_200 = reader.read_ascii()\n",
    "\n",
    "fname = './l0250_d100b.catalog' # file name to z0.0.catalog\n",
    "mthresh = 8e11  # threshold mass in Msun/h\n",
    "reader = sm.TabularAsciiReader(fname, rs_dict, row_cut_min_dict={'halo_mass':mthresh},\n",
    "                               row_cut_neq_dict={'halo_pid':-1})\n",
    "hosts_data_matching_100 = reader.read_ascii()\n",
    "\n",
    "fname = './l0250_d50b.catalog' # file name to z0.0.catalog\n",
    "mthresh = 1.5e12  # threshold mass in Msun/h\n",
    "reader = sm.TabularAsciiReader(fname, rs_dict, row_cut_min_dict={'halo_mass':mthresh},\n",
    "                               row_cut_neq_dict={'halo_pid':-1})\n",
    "hosts_data_matching_50 = reader.read_ascii()\n",
    "\n",
    "fname = './l0250_d60b.catalog' # file name to z0.0.catalog\n",
    "mthresh = 1e12  # threshold mass in Msun/h\n",
    "reader = sm.TabularAsciiReader(fname, rs_dict, row_cut_min_dict={'halo_mass':mthresh},\n",
    "                               row_cut_neq_dict={'halo_pid':-1})\n",
    "hosts_data_master = reader.read_ascii()"
   ]
  },
  {
   "cell_type": "code",
   "execution_count": 65,
   "metadata": {
    "collapsed": false
   },
   "outputs": [],
   "source": [
    "c_master = coord.SkyCoord(x=hosts_data_master['halo_x'], y=hosts_data_master['halo_y'], z=hosts_data_master['halo_z'],\n",
    "                         unit='Mpc', frame='icrs', representation='cartesian')"
   ]
  },
  {
   "cell_type": "code",
   "execution_count": 66,
   "metadata": {
    "collapsed": false
   },
   "outputs": [],
   "source": [
    "c_matching_200 = coord.SkyCoord(x=hosts_data_matching_200['halo_x'], y=hosts_data_matching_200['halo_y'], z=hosts_data_matching_200['halo_z'],\n",
    "                            unit='Mpc', frame='icrs', representation='cartesian')\n",
    "c_matching_100 = coord.SkyCoord(x=hosts_data_matching_100['halo_x'], y=hosts_data_matching_100['halo_y'], z=hosts_data_matching_100['halo_z'],\n",
    "                            unit='Mpc', frame='icrs', representation='cartesian')\n",
    "c_matching_50 = coord.SkyCoord(x=hosts_data_matching_50['halo_x'], y=hosts_data_matching_50['halo_y'], z=hosts_data_matching_50['halo_z'],\n",
    "                            unit='Mpc', frame='icrs', representation='cartesian')"
   ]
  },
  {
   "cell_type": "code",
   "execution_count": 67,
   "metadata": {
    "collapsed": true
   },
   "outputs": [],
   "source": [
    "idx_200, sep2d_200, sep3d_200 = coord.match_coordinates_3d(c_matching_200, c_master)\n",
    "idx_100, sep2d_100, sep3d_100 = coord.match_coordinates_3d(c_matching_100, c_master)\n",
    "idx_50, sep2d_50, sep3d_50 = coord.match_coordinates_3d(c_matching_50, c_master)"
   ]
  },
  {
   "cell_type": "code",
   "execution_count": 68,
   "metadata": {
    "collapsed": false
   },
   "outputs": [
    {
     "data": {
      "text/plain": [
       "0.0023644972349005393"
      ]
     },
     "execution_count": 68,
     "metadata": {},
     "output_type": "execute_result"
    }
   ],
   "source": [
    "np.percentile(sep3d_200,70)"
   ]
  },
  {
   "cell_type": "code",
   "execution_count": null,
   "metadata": {
    "collapsed": false
   },
   "outputs": [],
   "source": []
  },
  {
   "cell_type": "code",
   "execution_count": 69,
   "metadata": {
    "collapsed": false
   },
   "outputs": [],
   "source": [
    "mask_200 = (sep3d_200.value <= hosts_data_matching_200['halo_rvir']*.001*.1)\n",
    "othermask_200 = idx_200[np.where(sep3d_200.value <= hosts_data_matching_200['halo_rvir']*.001*.1)]\n",
    "\n",
    "mask_100 = (sep3d_100.value <= hosts_data_matching_100['halo_rvir']*.001*.1)\n",
    "othermask_100 = idx_100[np.where(sep3d_100.value <= hosts_data_matching_100['halo_rvir']*.001*.1)]\n",
    "\n",
    "mask_50 = (sep3d_50.value <= hosts_data_matching_50['halo_rvir']*.001*.1)\n",
    "othermask_50 = idx_50[np.where(sep3d_50.value <= hosts_data_matching_50['halo_rvir']*.001*.1)]"
   ]
  },
  {
   "cell_type": "code",
   "execution_count": 70,
   "metadata": {
    "collapsed": false
   },
   "outputs": [
    {
     "name": "stdout",
     "output_type": "stream",
     "text": [
      "14696 11039 0.751156777354\n"
     ]
    }
   ],
   "source": [
    "print len(mask), np.sum(mask), float(np.sum(mask))/float(len(mask))"
   ]
  },
  {
   "cell_type": "code",
   "execution_count": 71,
   "metadata": {
    "collapsed": false
   },
   "outputs": [],
   "source": [
    "matched_catalog_200 = hosts_data_matching_200[np.where(mask_200==True)]\n",
    "matched_catalog_master_200 = hosts_data_master[othermask_200]\n",
    "\n",
    "matched_catalog_100 = hosts_data_matching_100[np.where(mask_100==True)]\n",
    "matched_catalog_master_100 = hosts_data_master[othermask_100]\n",
    "\n",
    "matched_catalog_50 = hosts_data_matching_50[np.where(mask_50==True)]\n",
    "matched_catalog_master_50 = hosts_data_master[othermask_50]"
   ]
  },
  {
   "cell_type": "code",
   "execution_count": null,
   "metadata": {
    "collapsed": false
   },
   "outputs": [],
   "source": []
  },
  {
   "cell_type": "code",
   "execution_count": 72,
   "metadata": {
    "collapsed": false,
    "scrolled": true
   },
   "outputs": [
    {
     "data": {
      "text/plain": [
       "<Container object of 3 artists>"
      ]
     },
     "execution_count": 72,
     "metadata": {},
     "output_type": "execute_result"
    },
    {
     "data": {
      "image/png": "[encoded data removed]",
      "text/plain": [
       "<matplotlib.figure.Figure at 0x7fe63c4eec90>"
      ]
     },
     "metadata": {},
     "output_type": "display_data"
    }
   ],
   "source": [
    "#plt.semilogx(matched_catalog['halo_mass'], matched_catalog['halo_spin'],\n",
    "#         'b.')\n",
    "#plt.semilogx(matched_catalog_master['halo_mass'], matched_catalog_master['halo_spin'],\n",
    "#             'r.')\n",
    "#plt.semilogx(matched_catalog['halo_mass'], matched_catalog_master['halo_spin'], 'r.')\n",
    "#plt.ylim(0,500)\n",
    "\n",
    "total_bins = 15\n",
    "\n",
    "X1 = np.log10(matched_catalog_200['halo_mass'])\n",
    "Y1 = matched_catalog_200['halo_rvir']/matched_catalog_200['halo_rs']\n",
    "Y2 = matched_catalog_master_200['halo_rvir']/matched_catalog_master_200['halo_rs']\n",
    "\n",
    "\n",
    "bins = np.linspace(X1.min(),X1.max(), total_bins)\n",
    "delta = bins[1]-bins[0]\n",
    "idx  = np.digitize(X1,bins)\n",
    "running_median = [np.median(Y1[idx==k]) for k in range(total_bins)]\n",
    "\n",
    "running_std    = [Y1[idx==k].std() for k in range(total_bins)]\n",
    "scatter_200 = [running_std[k]/running_median[k] for k in range(total_bins)]\n",
    "plt.errorbar(10**(bins-delta/2),running_median,\n",
    "              running_std, color='b', label=r'$\\Delta=200$', lw=2)\n",
    "\n",
    "bins = np.linspace(X1.min(),X1.max(), total_bins)\n",
    "delta = bins[1]-bins[0]\n",
    "idx  = np.digitize(X1,bins)\n",
    "running_median = [np.median(Y2[idx==k]) for k in range(total_bins)]\n",
    "\n",
    "running_std    = [Y2[idx==k].std() for k in range(total_bins)]\n",
    "scatter_70 = [running_std[k]/running_median[k] for k in range(total_bins)]\n",
    "plt.errorbar(10**(bins-delta/2),running_median,\n",
    "              running_std, color='r', label=r'$\\Delta=70$', lw=2)"
   ]
  },
  {
   "cell_type": "code",
   "execution_count": 125,
   "metadata": {
    "collapsed": false,
    "scrolled": true
   },
   "outputs": [
    {
     "data": {
      "image/png": "[encoded data removed]",
      "text/plain": [
       "<matplotlib.figure.Figure at 0x7fe63bc263d0>"
      ]
     },
     "metadata": {},
     "output_type": "display_data"
    }
   ],
   "source": [
    "font = {'family' : 'normal',\n",
    "        'weight' : 'normal',\n",
    "        'size'   : 16}\n",
    "\n",
    "matplotlib.rc('font', **font)\n",
    "matplotlib.rcParams['lines.linewidth'] = 3\n",
    "\n",
    "total_bins = 10\n",
    "\n",
    "X1 = np.log10(matched_catalog_200['halo_mass'])\n",
    "Y1 = matched_catalog_200['halo_rvir']/matched_catalog_200['halo_rs']\n",
    "X2 = np.log10(matched_catalog_master_200['halo_mass'])\n",
    "Y2 = matched_catalog_master_200['halo_rvir']/matched_catalog_master_200['halo_rs']\n",
    "\n",
    "\n",
    "bins = np.linspace(X1.min(),X1.max(), total_bins)\n",
    "delta = bins[1]-bins[0]\n",
    "idx  = np.digitize(X1,bins)\n",
    "running_median = [np.median(Y1[idx==k]) for k in range(total_bins)]\n",
    "\n",
    "running_std    = [Y1[idx==k].std() for k in range(total_bins)]\n",
    "scatter_200 = [running_std[k]/running_median[k] for k in range(total_bins)]\n",
    "plt.errorbar(10**(bins-delta/2),running_median,\n",
    "              running_std, color='b', label=r'$\\Delta=200$', lw=2)\n",
    "\n",
    "bins = np.linspace(X2.min(),X2.max(), total_bins)\n",
    "delta = bins[1]-bins[0]\n",
    "idx  = np.digitize(X2,bins)\n",
    "running_median = [np.median(Y2[idx==k]) for k in range(total_bins)]\n",
    "\n",
    "running_std    = [Y2[idx==k].std() for k in range(total_bins)]\n",
    "scatter_70 = [running_std[k]/running_median[k] for k in range(total_bins)]\n",
    "plt.errorbar(10**(bins-delta/2),running_median,\n",
    "              running_std, color='r', label=r'$\\Delta=70$', lw=2)\n",
    "\n",
    "plt.xscale('log')\n",
    "plt.xlim(6e11,1e15)\n",
    "plt.ylim(0,90)\n",
    "plt.legend(loc='upper right', numpoints=1, prop={'size': 13}, title='Matched Catalogs', frameon=False)\n",
    "plt.xlabel(r'$M_{\\Delta} (h^{-1}\\mathrm{M}_{\\odot})$')\n",
    "plt.ylabel(r'$c_{\\mathrm{NFW}}$')\n",
    "plt.tight_layout(pad=0.1)\n",
    "plt.savefig('./FIGS/matched_catalog_cnfwcomp.pdf')"
   ]
  },
  {
   "cell_type": "code",
   "execution_count": 74,
   "metadata": {
    "collapsed": false
   },
   "outputs": [
    {
     "name": "stdout",
     "output_type": "stream",
     "text": [
      "0.365 0.0884296330423\n",
      "0.336866666667 0.112119400641\n"
     ]
    }
   ],
   "source": [
    "data_200 = [0.5012, 0.4714, 0.4319, 0.3419, 0.3308, 0.3475, 0.3214, 0.3527, 0.1862]\n",
    "data_70 = [0.4375, 0.4132, 0.3641, 0.3376, 0.3420, 0.3524, 0.3465, 0.4042, 0.0343]\n",
    "print np.mean(data_200), np.std(data_200)\n",
    "print np.mean(data_70), np.std(data_70)"
   ]
  },
  {
   "cell_type": "code",
   "execution_count": 124,
   "metadata": {
    "collapsed": false
   },
   "outputs": [
    {
     "data": {
      "image/png": "[encoded data removed]",
      "text/plain": [
       "<matplotlib.figure.Figure at 0x7fe63c245250>"
      ]
     },
     "metadata": {},
     "output_type": "display_data"
    }
   ],
   "source": [
    "font = {'family' : 'normal',\n",
    "        'weight' : 'normal',\n",
    "        'size'   : 16}\n",
    "\n",
    "matplotlib.rc('font', **font)\n",
    "matplotlib.rcParams['lines.linewidth'] = 3\n",
    "\n",
    "total_bins = 10\n",
    "\n",
    "X1 = np.log10(matched_catalog_200['halo_mass'])\n",
    "Y1 = matched_catalog_200['halo_spin']\n",
    "X2 = np.log10(matched_catalog_master_200['halo_mass'])\n",
    "Y2 = matched_catalog_master_200['halo_spin']\n",
    "\n",
    "\n",
    "bins = np.linspace(X1.min(),X1.max(), total_bins)\n",
    "delta = bins[1]-bins[0]\n",
    "idx  = np.digitize(X1,bins)\n",
    "running_median = [np.median(Y1[idx==k]) for k in range(total_bins)]\n",
    "\n",
    "running_std    = [Y1[idx==k].std() for k in range(total_bins)]\n",
    "scatter_200 = [running_std[k]/running_median[k] for k in range(total_bins)]\n",
    "plt.errorbar(10**(bins-delta/2),running_median,\n",
    "              running_std, color='b', label=r'$\\Delta=200$', lw=2)\n",
    "\n",
    "bins = np.linspace(X2.min(),X2.max(), total_bins)\n",
    "delta = bins[1]-bins[0]\n",
    "idx  = np.digitize(X2,bins)\n",
    "running_median = [np.median(Y2[idx==k]) for k in range(total_bins)]\n",
    "\n",
    "running_std    = [Y2[idx==k].std() for k in range(total_bins)]\n",
    "scatter_70 = [running_std[k]/running_median[k] for k in range(total_bins)]\n",
    "plt.errorbar(10**(bins-delta/2),running_median,\n",
    "              running_std, color='r', label=r'$\\Delta=70$', lw=2)\n",
    "\n",
    "plt.xscale('log')\n",
    "plt.xlim(2e12,1e15)\n",
    "plt.ylim(-0.02,0.09)\n",
    "plt.legend(loc='lower right', numpoints=1, prop={'size': 13}, title='Matched Catalogs', frameon=False)\n",
    "plt.xlabel(r'$M_{\\Delta} (h^{-1}\\mathrm{M}_{\\odot})$')\n",
    "plt.ylabel(r'$\\mathrm{shape}$')\n",
    "plt.tight_layout(pad=0.1)\n",
    "plt.savefig('./FIGS/matched_catalog_shapecomp.pdf')"
   ]
  },
  {
   "cell_type": "code",
   "execution_count": 105,
   "metadata": {
    "collapsed": false
   },
   "outputs": [
    {
     "data": {
      "image/png": "[encoded data removed]",
      "text/plain": [
       "<matplotlib.figure.Figure at 0x7fe63b8c1cd0>"
      ]
     },
     "metadata": {},
     "output_type": "display_data"
    }
   ],
   "source": [
    "total_bins=20\n",
    "\n",
    "X1 = np.log10(matched_catalog_master_200['halo_mass'])\n",
    "Y1 = np.log10(matched_catalog_200['halo_mass'])/np.log10(matched_catalog_master_200['halo_mass'])\n",
    "\n",
    "bins = np.linspace(X1.min(),X1.max(), total_bins)\n",
    "delta = bins[1]-bins[0]\n",
    "idx  = np.digitize(X1,bins)\n",
    "running_mean = [np.mean(Y1[idx==k]) for k in range(total_bins)]\n",
    "running_std    = [Y1[idx==k].std() for k in range(total_bins)]\n",
    "plt.errorbar(10**(bins-delta/2), running_mean,\n",
    "              running_std, color='b', label=r'$\\Delta=200$', lw=2)\n",
    "\n",
    "X1 = np.log10(matched_catalog_master_100['halo_mass'])\n",
    "Y1 = np.log10(matched_catalog_100['halo_mass'])/np.log10(matched_catalog_master_100['halo_mass'])\n",
    "\n",
    "bins = np.linspace(X1.min(),X1.max(), total_bins)\n",
    "delta = bins[1]-bins[0]\n",
    "idx  = np.digitize(X1,bins)\n",
    "running_mean = [np.mean(Y1[idx==k]) for k in range(total_bins)]\n",
    "running_std    = [Y1[idx==k].std() for k in range(total_bins)]\n",
    "plt.errorbar(10**(bins-delta/2), running_mean,\n",
    "              running_std, color='r', label=r'$\\Delta=100$', lw=2)\n",
    "\n",
    "X1 = np.log10(matched_catalog_master_50['halo_mass'])\n",
    "Y1 = np.log10(matched_catalog_50['halo_mass'])/np.log10(matched_catalog_master_50['halo_mass'])\n",
    "\n",
    "bins = np.linspace(X1.min(),X1.max(), total_bins)\n",
    "delta = bins[1]-bins[0]\n",
    "idx  = np.digitize(X1,bins)\n",
    "running_mean = [np.mean(Y1[idx==k]) for k in range(total_bins)]\n",
    "running_std    = [Y1[idx==k].std() for k in range(total_bins)]\n",
    "plt.errorbar(10**(bins-delta/2), running_mean,\n",
    "              running_std, color='g', label=r'$\\Delta=50$', lw=2)\n",
    "plt.xlabel(r'$M_{\\mathrm{60}} (h^{-1}\\mathrm{M}_{\\odot})$')\n",
    "plt.ylabel(r'$\\log M_{\\Delta} / \\log M_{\\mathrm{60}}$')\n",
    "plt.xlim(10**12,10**14)\n",
    "plt.ylim(0.96,1.02)\n",
    "plt.legend(loc='lower left', numpoints=1, prop={'size': 11}, frameon=False)\n",
    "plt.tight_layout(pad=0.01)\n",
    "plt.savefig('./FIGS/massdeltacompare.pdf')\n",
    "plt.xscale('log')"
   ]
  },
  {
   "cell_type": "code",
   "execution_count": 119,
   "metadata": {
    "collapsed": false
   },
   "outputs": [],
   "source": [
    "mass_sort = np.sort(hosts_data_matching_100, order='halo_mass')\n",
    "mass_binned = stats.binned_statistic(np.log10(mass_sort['halo_mass']),\n",
    "                                      np.log10(mass_sort['halo_mass']),\n",
    "                                      statistic='mean', bins=20)"
   ]
  },
  {
   "cell_type": "code",
   "execution_count": 123,
   "metadata": {
    "collapsed": false
   },
   "outputs": [
    {
     "data": {
      "text/plain": [
       "(array([  1.44900000e+04,   1.64000000e+02,   3.30000000e+01,\n",
       "          5.00000000e+00,   3.00000000e+00,   0.00000000e+00,\n",
       "          0.00000000e+00,   0.00000000e+00,   0.00000000e+00,\n",
       "          1.00000000e+00]),\n",
       " array([  1.00820418e+00,   1.14053981e+02,   2.27099757e+02,\n",
       "          3.40145534e+02,   4.53191310e+02,   5.66237086e+02,\n",
       "          6.79282863e+02,   7.92328639e+02,   9.05374416e+02,\n",
       "          1.01842019e+03,   1.13146597e+03]),\n",
       " <a list of 10 Patch objects>)"
      ]
     },
     "execution_count": 123,
     "metadata": {},
     "output_type": "execute_result"
    },
    {
     "data": {
      "image/png": "[encoded data removed]",
      "text/plain": [
       "<matplotlib.figure.Figure at 0x7fe63bd01c10>"
      ]
     },
     "metadata": {},
     "output_type": "display_data"
    }
   ],
   "source": [
    "plt.hist(hosts_data_matching_200['halo_rvir']/hosts_data_matching_200['halo_rs'])"
   ]
  },
  {
   "cell_type": "code",
   "execution_count": null,
   "metadata": {
    "collapsed": true
   },
   "outputs": [],
   "source": []
  }
 ],
 "metadata": {
  "kernelspec": {
   "display_name": "Python 2",
   "language": "python",
   "name": "python2"
  },
  "language_info": {
   "codemirror_mode": {
    "name": "ipython",
    "version": 2
   },
   "file_extension": ".py",
   "mimetype": "text/x-python",
   "name": "python",
   "nbconvert_exporter": "python",
   "pygments_lexer": "ipython2",
   "version": "2.7.11"
  }
 },
 "nbformat": 4,
 "nbformat_minor": 0
}
