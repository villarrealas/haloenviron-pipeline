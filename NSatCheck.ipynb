{
 "cells": [
  {
   "cell_type": "code",
   "execution_count": 248,
   "metadata": {
    "collapsed": true
   },
   "outputs": [],
   "source": [
    "%matplotlib inline\n",
    "\n",
    "import numpy as np\n",
    "from numpy.lib.recfunctions import append_fields\n",
    "import matplotlib\n",
    "import matplotlib.pyplot as plt\n",
    "import halotools.mock_observables as mo\n",
    "import halotools.sim_manager as sm\n",
    "import astropy.coordinates as coord"
   ]
  },
  {
   "cell_type": "code",
   "execution_count": 249,
   "metadata": {
    "collapsed": true
   },
   "outputs": [],
   "source": [
    "nbins = 20\n",
    "#mthresh = 5e10\n",
    "#vrat_frac = 0.3\n",
    "#vhost_min = 250.0\n",
    "#lbox = 250.0"
   ]
  },
  {
   "cell_type": "code",
   "execution_count": 250,
   "metadata": {
    "collapsed": false
   },
   "outputs": [
    {
     "name": "stdout",
     "output_type": "stream",
     "text": [
      "\n",
      "...Processing ASCII data of file: \n",
      "/data/asv13/projects/haloenviron-pipeline/l0250_d200b.catalog\n",
      " \n",
      "Total number of rows in detected data = 2501871\n",
      "Number of rows in detected header = 16 \n",
      "\n",
      "... working on chunk 0 of 1\n",
      "Total runtime to read in ASCII = 19.88 seconds\n",
      "\n",
      "\u0007\n",
      "\n",
      "...Processing ASCII data of file: \n",
      "/data/asv13/projects/haloenviron-pipeline/l0250_d200b.catalog\n",
      " \n",
      "Total number of rows in detected data = 2501871\n",
      "Number of rows in detected header = 16 \n",
      "\n",
      "... working on chunk 0 of 1\n",
      "Total runtime to read in ASCII = 19.58 seconds\n",
      "\n",
      "\u0007\n"
     ]
    }
   ],
   "source": [
    "fname = './l0250_d200b.catalog' # file name to z0.0.catalog\n",
    "mthresh = 1e10  # threshold mass in Msun/h\n",
    "#vrat_frac = 0.25\n",
    "vhost_min = 200.0\n",
    "#lbox = 250.0 # box length in Mpc/h\n",
    "\n",
    "# define dict pointing to all marks of interest\n",
    "rs_dict = {'halo_id':(0,'i8'), 'halo_mass':(2,'f8'), 'halo_vmax':(3,'f8'), 'halo_rvir':(5,'f8'),\n",
    "           'halo_rs':(6,'f8'), 'halo_x':(8,'f8'), 'halo_y':(9,'f8'), 'halo_z':(10,'f8'),\n",
    "           'halo_spin':(17,'f8'), 'halo_ctoa':(28, 'f8'), 'halo_pid':(41,'i8')}\n",
    "\n",
    "reader = sm.TabularAsciiReader(fname, rs_dict, row_cut_eq_dict={'halo_pid':-1}, \n",
    "                              row_cut_min_dict={'halo_mass':mthresh, 'halo_vmax':vhost_min})\n",
    "_data = reader.read_ascii()\n",
    "\n",
    "reader = sm.TabularAsciiReader(fname, rs_dict, row_cut_neq_dict={'halo_pid':-1},\n",
    "                              row_cut_min_dict={'halo_mass':mthresh})\n",
    "subs_data = reader.read_ascii()\n",
    "vratio = [subs_data[i]['halo_vmax'] / hosts_data['halo_vmax'][np.where(hosts_data['halo_id']==subs_data[i]['halo_pid'])]\n",
    "          for i in range(len(subs_data))]\n",
    "matcher = [vratio[i] >= vrat_frac for i in range(len(vratio))]\n",
    "subs_cut_data = subs_data[np.where(matcher)]\n",
    "nsat_count = [float(len(subs_cut_data[np.where(subs_cut_data['halo_pid']==hosts_data[i]['halo_id'])])) \n",
    "              for i in range(len(hosts_data))]\n",
    "n_sat, bins_sat = np.histogram(np.log10(hosts_data['halo_mass']), bins=nbins, weights=nsat_count)\n",
    "n_host, bins_host = np.histogram(np.log10(hosts_data['halo_mass']), bins=nbins)\n",
    "n_norm_a = n_sat/n_host\n",
    "bins_mid_a = [ (bins_sat[i+1]+bins_sat[i])/2 for i in range(0,nbins)]"
   ]
  },
  {
   "cell_type": "code",
   "execution_count": 251,
   "metadata": {
    "collapsed": false
   },
   "outputs": [
    {
     "name": "stdout",
     "output_type": "stream",
     "text": [
      "\n",
      "...Processing ASCII data of file: \n",
      "/data/asv13/projects/haloenviron-pipeline/l0125_d200b.catalog\n",
      " \n",
      "Total number of rows in detected data = 2016442\n",
      "Number of rows in detected header = 16 \n",
      "\n",
      "... working on chunk 0 of 1\n",
      "Total runtime to read in ASCII = 15.17 seconds\n",
      "\n",
      "\u0007\n",
      "\n",
      "...Processing ASCII data of file: \n",
      "/data/asv13/projects/haloenviron-pipeline/l0250_d200b.catalog\n",
      " \n",
      "Total number of rows in detected data = 2501871\n",
      "Number of rows in detected header = 16 \n",
      "\n",
      "... working on chunk 0 of 1\n",
      "Total runtime to read in ASCII = 19.93 seconds\n",
      "\n",
      "\u0007\n",
      "\n",
      "...Processing ASCII data of file: \n",
      "/data/asv13/projects/haloenviron-pipeline/l0500_d200b.catalog\n",
      " \n",
      "Total number of rows in detected data = 3110333\n",
      "Number of rows in detected header = 16 \n",
      "\n",
      "... working on chunk 0 of 2\n",
      "... working on chunk 1 of 2\n",
      "Total runtime to read in ASCII = 23.91 seconds\n",
      "\n",
      "\u0007\n",
      "limits assuming that vratio = 0.3\n",
      "('l0125 vhost_max = ', 133.33333333333334)\n",
      "('l0250 vhost_max = ', 233.33333333333334)\n",
      "('l0500 vhost_max = ', 400.0)\n"
     ]
    },
    {
     "data": {
      "image/png": "[encoded data removed]",
      "text/plain": [
       "<matplotlib.figure.Figure at 0x7f5e49b9ab90>"
      ]
     },
     "metadata": {},
     "output_type": "display_data"
    }
   ],
   "source": [
    "fname_l0125 = './l0125_d200b.catalog' # file name to z0.0.catalog\n",
    "fname_l0250 = './l0250_d200b.catalog'\n",
    "fname_l0500 = './l0500_d200b.catalog'\n",
    "\n",
    "nbins=50\n",
    "\n",
    "# define dict pointing to all marks of interest\n",
    "rs_dict = {'halo_id':(0,'i8'), 'halo_mass':(2,'f8'), 'halo_vmax':(3,'f8'), 'halo_rvir':(5,'f8'),\n",
    "           'halo_rs':(6,'f8'), 'halo_x':(8,'f8'), 'halo_y':(9,'f8'), 'halo_z':(10,'f8'),\n",
    "           'halo_spin':(17,'f8'), 'halo_ctoa':(28, 'f8'), 'halo_pid':(41,'i8')}\n",
    "\n",
    "reader = sm.TabularAsciiReader(fname_l0125, rs_dict, row_cut_neq_dict={'halo_pid':-1})\n",
    "subs_data = reader.read_ascii()\n",
    "sorted_l0125 = np.sort(subs_data['halo_vmax'])\n",
    "\n",
    "reader = sm.TabularAsciiReader(fname_l0250, rs_dict, row_cut_neq_dict={'halo_pid':-1})\n",
    "subs_data = reader.read_ascii()\n",
    "sorted_l0250 = np.sort(subs_data['halo_vmax'])\n",
    "\n",
    "reader = sm.TabularAsciiReader(fname_l0500, rs_dict, row_cut_neq_dict={'halo_pid':-1})\n",
    "subs_data = reader.read_ascii()\n",
    "sorted_l0500 = np.sort(subs_data['halo_vmax'])\n",
    "\n",
    "plt.step(sorted_l0125[::-1], np.arange(sorted_l0125.size), 'b')\n",
    "plt.step(sorted_l0250[::-1], np.arange(sorted_l0250.size), 'r')\n",
    "plt.step(sorted_l0500[::-1], np.arange(sorted_l0500.size), 'g')\n",
    "plt.yscale('log')\n",
    "plt.xlim(0,300)\n",
    "plt.ylim(1e4, 6e5)\n",
    "plt.title('delta = 200 vsub cuts')\n",
    "plt.axvline(x=40, color='b')\n",
    "plt.axvline(x=70, color='r')\n",
    "plt.axvline(x=120, color='g')\n",
    "\n",
    "print('limits assuming that vratio = 0.3')\n",
    "print('l0125 vhost_max = ', 40/0.3)\n",
    "print('l0250 vhost_max = ', 70/0.3)\n",
    "print('l0500 vhost_max = ',120/0.3)"
   ]
  },
  {
   "cell_type": "code",
   "execution_count": 252,
   "metadata": {
    "collapsed": false
   },
   "outputs": [
    {
     "name": "stdout",
     "output_type": "stream",
     "text": [
      "\n",
      "...Processing ASCII data of file: \n",
      "/data/asv13/projects/haloenviron-pipeline/l0125_d100b.catalog\n",
      " \n",
      "Total number of rows in detected data = 2080879\n",
      "Number of rows in detected header = 16 \n",
      "\n",
      "... working on chunk 0 of 1\n",
      "Total runtime to read in ASCII = 18.32 seconds\n",
      "\n",
      "\u0007\n",
      "\n",
      "...Processing ASCII data of file: \n",
      "/data/asv13/projects/haloenviron-pipeline/l0250_d100b.catalog\n",
      " \n",
      "Total number of rows in detected data = 2610326\n",
      "Number of rows in detected header = 16 \n",
      "\n",
      "... working on chunk 0 of 1\n",
      "Total runtime to read in ASCII = 20.17 seconds\n",
      "\n",
      "\u0007\n",
      "\n",
      "...Processing ASCII data of file: \n",
      "/data/asv13/projects/haloenviron-pipeline/l0500_d100b.catalog\n",
      " \n",
      "Total number of rows in detected data = 3292814\n",
      "Number of rows in detected header = 16 \n",
      "\n",
      "... working on chunk 0 of 2\n",
      "... working on chunk 1 of 2\n",
      "Total runtime to read in ASCII = 28.93 seconds\n",
      "\n",
      "\u0007\n",
      "limits assuming that vratio = 0.3\n",
      "('l0125 vhost_max = ', 133.33333333333334)\n",
      "('l0250 vhost_max = ', 233.33333333333334)\n",
      "('l0500 vhost_max = ', 400.0)\n"
     ]
    },
    {
     "data": {
      "image/png": "[encoded data removed]",
      "text/plain": [
       "<matplotlib.figure.Figure at 0x7f5ddcceead0>"
      ]
     },
     "metadata": {},
     "output_type": "display_data"
    }
   ],
   "source": [
    "fname_l0125 = './l0125_d100b.catalog' # file name to z0.0.catalog\n",
    "fname_l0250 = './l0250_d100b.catalog'\n",
    "fname_l0500 = './l0500_d100b.catalog'\n",
    "\n",
    "nbins=50\n",
    "\n",
    "# define dict pointing to all marks of interest\n",
    "rs_dict = {'halo_id':(0,'i8'), 'halo_mass':(2,'f8'), 'halo_vmax':(3,'f8'), 'halo_rvir':(5,'f8'),\n",
    "           'halo_rs':(6,'f8'), 'halo_x':(8,'f8'), 'halo_y':(9,'f8'), 'halo_z':(10,'f8'),\n",
    "           'halo_spin':(17,'f8'), 'halo_ctoa':(28, 'f8'), 'halo_pid':(41,'i8')}\n",
    "\n",
    "reader = sm.TabularAsciiReader(fname_l0125, rs_dict, row_cut_neq_dict={'halo_pid':-1})\n",
    "subs_data = reader.read_ascii()\n",
    "sorted_l0125 = np.sort(subs_data['halo_vmax'])\n",
    "\n",
    "reader = sm.TabularAsciiReader(fname_l0250, rs_dict, row_cut_neq_dict={'halo_pid':-1})\n",
    "subs_data = reader.read_ascii()\n",
    "sorted_l0250 = np.sort(subs_data['halo_vmax'])\n",
    "\n",
    "reader = sm.TabularAsciiReader(fname_l0500, rs_dict, row_cut_neq_dict={'halo_pid':-1})\n",
    "subs_data = reader.read_ascii()\n",
    "sorted_l0500 = np.sort(subs_data['halo_vmax'])\n",
    "\n",
    "plt.step(sorted_l0125[::-1], np.arange(sorted_l0125.size), 'b')\n",
    "plt.step(sorted_l0250[::-1], np.arange(sorted_l0250.size), 'r')\n",
    "plt.step(sorted_l0500[::-1], np.arange(sorted_l0500.size), 'g')\n",
    "plt.yscale('log')\n",
    "plt.xlim(0,300)\n",
    "plt.ylim(1e4, 6e5)\n",
    "plt.title('delta = 100 vsub cuts')\n",
    "plt.axvline(x=40, color='b')\n",
    "plt.axvline(x=70, color='r')\n",
    "plt.axvline(x=120, color='g')\n",
    "\n",
    "print('limits assuming that vratio = 0.3')\n",
    "print('l0125 vhost_max = ', 40/0.3)\n",
    "print('l0250 vhost_max = ', 70/0.3)\n",
    "print('l0500 vhost_max = ',120/0.3)"
   ]
  },
  {
   "cell_type": "code",
   "execution_count": 253,
   "metadata": {
    "collapsed": false
   },
   "outputs": [
    {
     "name": "stdout",
     "output_type": "stream",
     "text": [
      "\n",
      "...Processing ASCII data of file: \n",
      "/data/asv13/projects/haloenviron-pipeline/l0125_d75b.catalog\n",
      " \n",
      "Total number of rows in detected data = 2102150\n",
      "Number of rows in detected header = 16 \n",
      "\n",
      "... working on chunk 0 of 1\n",
      "Total runtime to read in ASCII = 16.21 seconds\n",
      "\n",
      "\u0007\n",
      "\n",
      "...Processing ASCII data of file: \n",
      "/data/asv13/projects/haloenviron-pipeline/l0250_d75b.catalog\n",
      " \n",
      "Total number of rows in detected data = 2649452\n",
      "Number of rows in detected header = 16 \n",
      "\n",
      "... working on chunk 0 of 1\n",
      "Total runtime to read in ASCII = 20.84 seconds\n",
      "\n",
      "\u0007\n",
      "\n",
      "...Processing ASCII data of file: \n",
      "/data/asv13/projects/haloenviron-pipeline/l0500_d75b.catalog\n",
      " \n",
      "Total number of rows in detected data = 3361605\n",
      "Number of rows in detected header = 16 \n",
      "\n",
      "... working on chunk 0 of 2\n",
      "... working on chunk 1 of 2\n",
      "Total runtime to read in ASCII = 26.48 seconds\n",
      "\n",
      "\u0007\n",
      "limits assuming that vratio = 0.3\n",
      "('l0125 vhost_max = ', 133.33333333333334)\n",
      "('l0250 vhost_max = ', 233.33333333333334)\n",
      "('l0500 vhost_max = ', 400.0)\n"
     ]
    },
    {
     "data": {
      "image/png": "[encoded data removed]",
      "text/plain": [
       "<matplotlib.figure.Figure at 0x7f5e4d1b0f90>"
      ]
     },
     "metadata": {},
     "output_type": "display_data"
    }
   ],
   "source": [
    "fname_l0125 = './l0125_d75b.catalog' # file name to z0.0.catalog\n",
    "fname_l0250 = './l0250_d75b.catalog'\n",
    "fname_l0500 = './l0500_d75b.catalog'\n",
    "\n",
    "nbins=50\n",
    "\n",
    "# define dict pointing to all marks of interest\n",
    "rs_dict = {'halo_id':(0,'i8'), 'halo_mass':(2,'f8'), 'halo_vmax':(3,'f8'), 'halo_rvir':(5,'f8'),\n",
    "           'halo_rs':(6,'f8'), 'halo_x':(8,'f8'), 'halo_y':(9,'f8'), 'halo_z':(10,'f8'),\n",
    "           'halo_spin':(17,'f8'), 'halo_ctoa':(28, 'f8'), 'halo_pid':(41,'i8')}\n",
    "\n",
    "reader = sm.TabularAsciiReader(fname_l0125, rs_dict, row_cut_neq_dict={'halo_pid':-1})\n",
    "subs_data = reader.read_ascii()\n",
    "sorted_l0125 = np.sort(subs_data['halo_vmax'])\n",
    "\n",
    "reader = sm.TabularAsciiReader(fname_l0250, rs_dict, row_cut_neq_dict={'halo_pid':-1})\n",
    "subs_data = reader.read_ascii()\n",
    "sorted_l0250 = np.sort(subs_data['halo_vmax'])\n",
    "\n",
    "reader = sm.TabularAsciiReader(fname_l0500, rs_dict, row_cut_neq_dict={'halo_pid':-1})\n",
    "subs_data = reader.read_ascii()\n",
    "sorted_l0500 = np.sort(subs_data['halo_vmax'])\n",
    "\n",
    "plt.step(sorted_l0125[::-1], np.arange(sorted_l0125.size), 'b')\n",
    "plt.step(sorted_l0250[::-1], np.arange(sorted_l0250.size), 'r')\n",
    "plt.step(sorted_l0500[::-1], np.arange(sorted_l0500.size), 'g')\n",
    "plt.yscale('log')\n",
    "plt.xlim(0,300)\n",
    "plt.ylim(1e4, 6e5)\n",
    "plt.title('delta = 75 vsub cuts')\n",
    "plt.axvline(x=40, color='b')\n",
    "plt.axvline(x=70, color='r')\n",
    "plt.axvline(x=120, color='g')\n",
    "\n",
    "print('limits assuming that vratio = 0.3')\n",
    "print('l0125 vhost_max = ', 40/0.3)\n",
    "print('l0250 vhost_max = ', 70/0.3)\n",
    "print('l0500 vhost_max = ',120/0.3)"
   ]
  },
  {
   "cell_type": "code",
   "execution_count": 254,
   "metadata": {
    "collapsed": false
   },
   "outputs": [
    {
     "name": "stdout",
     "output_type": "stream",
     "text": [
      "\n",
      "...Processing ASCII data of file: \n",
      "/data/asv13/projects/haloenviron-pipeline/l0125_d50b.catalog\n",
      " \n",
      "Total number of rows in detected data = 2122236\n",
      "Number of rows in detected header = 16 \n",
      "\n",
      "... working on chunk 0 of 1\n",
      "Total runtime to read in ASCII = 16.21 seconds\n",
      "\n",
      "\u0007\n",
      "\n",
      "...Processing ASCII data of file: \n",
      "/data/asv13/projects/haloenviron-pipeline/l0250_d50b.catalog\n",
      " \n",
      "Total number of rows in detected data = 2692442\n",
      "Number of rows in detected header = 16 \n",
      "\n",
      "... working on chunk 0 of 1\n",
      "Total runtime to read in ASCII = 20.78 seconds\n",
      "\n",
      "\u0007\n",
      "\n",
      "...Processing ASCII data of file: \n",
      "/data/asv13/projects/haloenviron-pipeline/l0500_d50b.catalog\n",
      " \n",
      "Total number of rows in detected data = 3442920\n",
      "Number of rows in detected header = 16 \n",
      "\n",
      "... working on chunk 0 of 2\n",
      "... working on chunk 1 of 2\n",
      "Total runtime to read in ASCII = 26.63 seconds\n",
      "\n",
      "\u0007\n",
      "limits assuming that vratio = 0.3\n",
      "('l0125 vhost_max = ', 133.33333333333334)\n",
      "('l0250 vhost_max = ', 233.33333333333334)\n",
      "('l0500 vhost_max = ', 400.0)\n"
     ]
    },
    {
     "data": {
      "image/png": "[encoded data removed]",
      "text/plain": [
       "<matplotlib.figure.Figure at 0x7f5e4d727550>"
      ]
     },
     "metadata": {},
     "output_type": "display_data"
    }
   ],
   "source": [
    "fname_l0125 = './l0125_d50b.catalog' # file name to z0.0.catalog\n",
    "fname_l0250 = './l0250_d50b.catalog'\n",
    "fname_l0500 = './l0500_d50b.catalog'\n",
    "\n",
    "nbins=50\n",
    "\n",
    "# define dict pointing to all marks of interest\n",
    "rs_dict = {'halo_id':(0,'i8'), 'halo_mass':(2,'f8'), 'halo_vmax':(3,'f8'), 'halo_rvir':(5,'f8'),\n",
    "           'halo_rs':(6,'f8'), 'halo_x':(8,'f8'), 'halo_y':(9,'f8'), 'halo_z':(10,'f8'),\n",
    "           'halo_spin':(17,'f8'), 'halo_ctoa':(28, 'f8'), 'halo_pid':(41,'i8')}\n",
    "\n",
    "reader = sm.TabularAsciiReader(fname_l0125, rs_dict, row_cut_neq_dict={'halo_pid':-1})\n",
    "subs_data = reader.read_ascii()\n",
    "sorted_l0125 = np.sort(subs_data['halo_vmax'])\n",
    "\n",
    "reader = sm.TabularAsciiReader(fname_l0250, rs_dict, row_cut_neq_dict={'halo_pid':-1})\n",
    "subs_data = reader.read_ascii()\n",
    "sorted_l0250 = np.sort(subs_data['halo_vmax'])\n",
    "\n",
    "reader = sm.TabularAsciiReader(fname_l0500, rs_dict, row_cut_neq_dict={'halo_pid':-1})\n",
    "subs_data = reader.read_ascii()\n",
    "sorted_l0500 = np.sort(subs_data['halo_vmax'])\n",
    "\n",
    "plt.step(sorted_l0125[::-1], np.arange(sorted_l0125.size), 'b')\n",
    "plt.step(sorted_l0250[::-1], np.arange(sorted_l0250.size), 'r')\n",
    "plt.step(sorted_l0500[::-1], np.arange(sorted_l0500.size), 'g')\n",
    "plt.yscale('log')\n",
    "plt.xlim(0,300)\n",
    "plt.ylim(1e4, 6e5)\n",
    "plt.title('delta = 50 vsub cuts')\n",
    "plt.axvline(x=40, color='b')\n",
    "plt.axvline(x=70, color='r')\n",
    "plt.axvline(x=120, color='g')\n",
    "\n",
    "print('limits assuming that vratio = 0.3')\n",
    "print('l0125 vhost_max = ', 40/0.3)\n",
    "print('l0250 vhost_max = ', 70/0.3)\n",
    "print('l0500 vhost_max = ',120/0.3)"
   ]
  },
  {
   "cell_type": "code",
   "execution_count": 255,
   "metadata": {
    "collapsed": false
   },
   "outputs": [
    {
     "name": "stdout",
     "output_type": "stream",
     "text": [
      "\n",
      "...Processing ASCII data of file: \n",
      "/data/asv13/projects/haloenviron-pipeline/l0125_d10b.catalog\n",
      " \n",
      "Total number of rows in detected data = 2095780\n",
      "Number of rows in detected header = 16 \n",
      "\n",
      "... working on chunk 0 of 1\n",
      "Total runtime to read in ASCII = 18.65 seconds\n",
      "\n",
      "\u0007\n",
      "\n",
      "...Processing ASCII data of file: \n",
      "/data/asv13/projects/haloenviron-pipeline/l0250_d200b.catalog\n",
      " \n",
      "Total number of rows in detected data = 2501871\n",
      "Number of rows in detected header = 16 \n",
      "\n",
      "... working on chunk 0 of 1\n",
      "Total runtime to read in ASCII = 19.44 seconds\n",
      "\n",
      "\u0007\n",
      "\n",
      "...Processing ASCII data of file: \n",
      "/data/asv13/projects/haloenviron-pipeline/l0500_d340b.catalog\n",
      " \n",
      "Total number of rows in detected data = 2963478\n",
      "Number of rows in detected header = 16 \n",
      "\n",
      "... working on chunk 0 of 2\n",
      "... working on chunk 1 of 2\n",
      "Total runtime to read in ASCII = 26.06 seconds\n",
      "\n",
      "\u0007\n",
      "limits assuming that vratio = 0.3\n",
      "('l0125 vhost_max = ', 133.33333333333334)\n",
      "('l0250 vhost_max = ', 233.33333333333334)\n",
      "('l0500 vhost_max = ', 400.0)\n"
     ]
    },
    {
     "data": {
      "image/png": "[encoded data removed]",
      "text/plain": [
       "<matplotlib.figure.Figure at 0x7f5e4d5f95d0>"
      ]
     },
     "metadata": {},
     "output_type": "display_data"
    }
   ],
   "source": [
    "fname_l0125 = './l0125_d10b.catalog' # file name to z0.0.catalog\n",
    "fname_l0250 = './l0250_d200b.catalog'\n",
    "fname_l0500 = './l0500_d340b.catalog'\n",
    "\n",
    "nbins=50\n",
    "\n",
    "# define dict pointing to all marks of interest\n",
    "rs_dict = {'halo_id':(0,'i8'), 'halo_mass':(2,'f8'), 'halo_vmax':(3,'f8'), 'halo_rvir':(5,'f8'),\n",
    "           'halo_rs':(6,'f8'), 'halo_x':(8,'f8'), 'halo_y':(9,'f8'), 'halo_z':(10,'f8'),\n",
    "           'halo_spin':(17,'f8'), 'halo_ctoa':(28, 'f8'), 'halo_pid':(41,'i8')}\n",
    "\n",
    "reader = sm.TabularAsciiReader(fname_l0125, rs_dict, row_cut_neq_dict={'halo_pid':-1})\n",
    "subs_data = reader.read_ascii()\n",
    "sorted_l0125 = np.sort(subs_data['halo_vmax'])\n",
    "\n",
    "reader = sm.TabularAsciiReader(fname_l0250, rs_dict, row_cut_neq_dict={'halo_pid':-1})\n",
    "subs_data = reader.read_ascii()\n",
    "sorted_l0250 = np.sort(subs_data['halo_vmax'])\n",
    "\n",
    "reader = sm.TabularAsciiReader(fname_l0500, rs_dict, row_cut_neq_dict={'halo_pid':-1})\n",
    "subs_data = reader.read_ascii()\n",
    "sorted_l0500 = np.sort(subs_data['halo_vmax'])\n",
    "\n",
    "plt.step(sorted_l0125[::-1], np.arange(sorted_l0125.size), 'b')\n",
    "plt.step(sorted_l0250[::-1], np.arange(sorted_l0250.size), 'r')\n",
    "plt.step(sorted_l0500[::-1], np.arange(sorted_l0500.size), 'g')\n",
    "plt.yscale('log')\n",
    "plt.xlim(0,300)\n",
    "plt.ylim(1e4, 6e5)\n",
    "plt.title('delta = 50 vsub cuts')\n",
    "plt.axvline(x=40, color='b')\n",
    "plt.axvline(x=70, color='r')\n",
    "plt.axvline(x=120, color='g')\n",
    "\n",
    "print('limits assuming that vratio = 0.3')\n",
    "print('l0125 vhost_max = ', 40/0.3)\n",
    "print('l0250 vhost_max = ', 70/0.3)\n",
    "print('l0500 vhost_max = ',120/0.3)"
   ]
  },
  {
   "cell_type": "markdown",
   "metadata": {},
   "source": [
    "Choosing 135, 235, and 400 as our cutoffs in practice."
   ]
  },
  {
   "cell_type": "code",
   "execution_count": null,
   "metadata": {
    "collapsed": true
   },
   "outputs": [],
   "source": []
  }
 ],
 "metadata": {
  "kernelspec": {
   "display_name": "Python 2",
   "language": "python",
   "name": "python2"
  },
  "language_info": {
   "codemirror_mode": {
    "name": "ipython",
    "version": 2
   },
   "file_extension": ".py",
   "mimetype": "text/x-python",
   "name": "python",
   "nbconvert_exporter": "python",
   "pygments_lexer": "ipython2",
   "version": "2.7.11"
  }
 },
 "nbformat": 4,
 "nbformat_minor": 0
}
