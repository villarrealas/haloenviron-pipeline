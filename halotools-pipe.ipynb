{
 "cells": [
  {
   "cell_type": "markdown",
   "metadata": {},
   "source": [
    "Primary goal is to define a function by which we give it a file name and mass threshold and the entirety of the calculation in terms of CFs, MCFs, and various cuts are output as a single data vector. We will start by assuming a value of fname and mthresh and go from there, and see what needs changing."
   ]
  },
  {
   "cell_type": "code",
   "execution_count": 16,
   "metadata": {
    "collapsed": false
   },
   "outputs": [],
   "source": [
    "# required imports for the function here\n",
    "%matplotlib inline\n",
    "\n",
    "import numpy as np\n",
    "from numpy.lib.recfunctions import append_fields\n",
    "import matplotlib.pyplot as plt\n",
    "import scipy.stats as stats\n",
    "import halotools.mock_observables as mo\n",
    "import halotools.sim_manager as sm\n"
   ]
  },
  {
   "cell_type": "code",
   "execution_count": 43,
   "metadata": {
    "collapsed": false
   },
   "outputs": [
    {
     "name": "stdout",
     "output_type": "stream",
     "text": [
      "\n",
      "...Processing ASCII data of file: \n",
      "/data/asv13/projects/haloenviron-pipeline/l0250_d50b.catalog\n",
      " \n",
      "Total number of rows in detected data = 2580156\n",
      "Number of rows in detected header = 15 \n",
      "\n",
      "... working on chunk 0 of 1\n",
      "Total runtime to read in ASCII = 14.73 seconds\n",
      "\n",
      "\u0007\n",
      "\n",
      "...Processing ASCII data of file: \n",
      "/data/asv13/projects/haloenviron-pipeline/l0250_d50b.catalog\n",
      " \n",
      "Total number of rows in detected data = 2580156\n",
      "Number of rows in detected header = 15 \n",
      "\n",
      "... working on chunk 0 of 1\n",
      "Total runtime to read in ASCII = 14.58 seconds\n",
      "\n",
      "\u0007\n"
     ]
    }
   ],
   "source": [
    "fname = './l0250_d50b.catalog' # file name to z0.0.catalog\n",
    "mthresh = 1.5e12  # threshold mass in Msun/h\n",
    "gnewton = 4.302e-6\n",
    "lbox = 250.0\n",
    "vhost_min = 240.0\n",
    "vrat_frac = 0.3\n",
    "vsub_min = vhost_min * vrat_frac\n",
    "nrand = 10\n",
    "\n",
    "# define dict pointing to all marks of interest\n",
    "rs_dict = {'halo_id':(0,'i8'), 'halo_mass':(2,'f8'), 'halo_vmax':(3,'f8'), 'halo_rvir':(5,'f8'),\n",
    "           'halo_rs':(6,'f8'), 'halo_x':(8,'f8'), 'halo_y':(9,'f8'), 'halo_z':(10,'f8'),\n",
    "           'halo_spin':(17,'f8'), 'halo_ctoa':(28, 'f8'), 'halo_pid':(33,'i8')}\n",
    "\n",
    "reader = sm.TabularAsciiReader(fname, rs_dict, row_cut_min_dict={'halo_mass':mthresh},\n",
    "                               row_cut_eq_dict={'halo_pid':-1})\n",
    "hosts_data = reader.read_ascii()\n",
    "\n",
    "reader = sm.TabularAsciiReader(fname, rs_dict, row_cut_min_dict={'halo_vmax':vsub_min}, row_cut_neq_dict={'halo_pid':-1})\n",
    "subs_data = reader.read_ascii()\n",
    "\n",
    "# add calculated marks\n",
    "vratio_temp = hosts_data['halo_vmax']/(np.sqrt(gnewton * hosts_data['halo_mass']/hosts_data['halo_rvir']))\n",
    "cnfw_temp = hosts_data['halo_rvir']/hosts_data['halo_rs']\n",
    "\n",
    "# now we want to go host halo by host halo, match pid to subhalos, and\n",
    "# count the number that meet our requirements and then add this on\n",
    "# as both a number and a flag.\n",
    "nflagtemp = np.zeros(len(hosts_data))\n",
    "subcount = np.zeros(len(hosts_data))\n",
    "\n",
    "for i in range(0, len(hosts_data)):\n",
    "   if hosts_data[i]['halo_vmax'] > vhost_min:\n",
    "      nflagtemp[i] = 1\n",
    "      subs_cut = subs_data[np.where(subs_data['halo_pid'] == hosts_data[i]['halo_id'])]\n",
    "      for j in range(0, len(subs_cut)):\n",
    "         xdist = subs_cut[j]['halo_x'] - hosts_data[i]['halo_x']\n",
    "         ydist = subs_cut[j]['halo_y'] - hosts_data[i]['halo_y']\n",
    "         zdist = subs_cut[j]['halo_z'] - hosts_data[i]['halo_z']\n",
    "         totdist = (xdist**2 + ydist**2 + zdist**2)*0.001\n",
    "         if totdist < hosts_data[i]['halo_rvir']:\n",
    "            ratio = subs_cut[j]['halo_vmax']/hosts_data[i]['halo_vmax']\n",
    "            if ratio > vrat_frac:\n",
    "               subcount[i] = subcount[i] + 1\n",
    "\n",
    "hosts_data_alt =  append_fields(hosts_data, ('halo_cV', 'halo_cNFW', 'halo_satflag', 'halo_nsat'), (vratio_temp, cnfw_temp, nflagtemp, subcount))\n",
    "\n",
    "# now that we have data, we need to mass correct all of our marks\n",
    "mass_sort = np.sort(hosts_data_alt, order='halo_mass')\n",
    "\n",
    "vratio_binned = stats.binned_statistic(np.log10(mass_sort['halo_mass']),\n",
    "                                       (mass_sort['halo_cV']),\n",
    "                                       statistic='mean', bins=10)\n",
    "vratio_fix = (mass_sort['halo_cV']) / vratio_binned.statistic[vratio_binned.binnumber-1]\n",
    "mass_sort['halo_cV'] = vratio_fix\n",
    "\n",
    "cnfw_binned = stats.binned_statistic(np.log10(mass_sort['halo_mass']),\n",
    "                                     (mass_sort['halo_cNFW']),\n",
    "                                     statistic = 'mean', bins=10)\n",
    "cnfw_fix = (mass_sort['halo_cNFW']) / cnfw_binned.statistic[cnfw_binned.binnumber-1]\n",
    "mass_sort['halo_cNFW'] = cnfw_fix\n",
    "\n",
    "shape_binned = stats.binned_statistic(np.log10(mass_sort['halo_mass']),\n",
    "                                      (mass_sort['halo_ctoa']),\n",
    "                                      statistic='mean', bins=10)\n",
    "shape_fix = (mass_sort['halo_ctoa']) / shape_binned.statistic[shape_binned.binnumber-1]\n",
    "mass_sort['halo_ctoa'] = shape_fix\n",
    "\n",
    "spin_binned = stats.binned_statistic(np.log10(mass_sort['halo_mass']),\n",
    "                                     (mass_sort['halo_spin']),\n",
    "                                     statistic='mean', bins=10)\n",
    "spin_fix = (mass_sort['halo_spin']) / spin_binned.statistic[spin_binned.binnumber-1]\n",
    "mass_sort['halo_spin'] = spin_fix\n",
    "\n",
    "# now all our marks have been fixed. First let's run through the marked correlation functions\n",
    "# then we can take various correlation function comparisons\n",
    "\n",
    "pos = np.vstack((mass_sort['halo_x'], mass_sort['halo_y'], mass_sort['halo_z'])).T\n",
    "\n",
    "minlog = np.log10(3.0)\n",
    "maxlog = np.log10(30.0)\n",
    "nstep = 30\n",
    "steplog = (maxlog - minlog) / (nstep - 1.)\n",
    "logbins = np.arange(minlog, maxlog+steplog, steplog)\n",
    "binmids = np.zeros(30)\n",
    "for i in range(0,nstep):\n",
    "    binmids[i] = (logbins[i]+logbins[i+1])/2.\n",
    "\n",
    "xi = mo.tpcf(pos, 10**logbins, period=lbox)\n",
    "\n",
    "mcf_vratio = mo.marked_tpcf(pos, 10**logbins, marks1=mass_sort['halo_cV'], period=lbox,\n",
    "                            normalize_by='number_counts', wfunc=1)\n",
    "mcfn_vratio = (mcf_vratio - np.mean(mass_sort['halo_cV'])**2)/(np.var(mass_sort['halo_cV']))\n",
    "\n",
    "mcf_cnfw = mo.marked_tpcf(pos, 10**logbins, marks1=mass_sort['halo_cNFW'], period=lbox,\n",
    "                          normalize_by='number_counts', wfunc=1)\n",
    "mcfn_cnfw = (mcf_cnfw - np.mean(mass_sort['halo_cNFW'])**2)/(np.var(mass_sort['halo_cNFW']))\n",
    "\n",
    "mcf_ctoa = mo.marked_tpcf(pos, 10**logbins, marks1=mass_sort['halo_ctoa'], period=lbox,\n",
    "                          normalize_by='number_counts', wfunc=1)\n",
    "mcfn_ctoa = (mcf_ctoa - np.mean(mass_sort['halo_ctoa'])**2)/(np.var(mass_sort['halo_ctoa']))\n",
    "\n",
    "mcf_spin = mo.marked_tpcf(pos, 10**logbins, marks1=mass_sort['halo_spin'], period=lbox,\n",
    "                          normalize_by='number_counts', wfunc=1)\n",
    "mcfn_spin = (mcf_spin - np.mean(mass_sort['halo_spin'])**2)/(np.var(mass_sort['halo_spin']))\n",
    "\n",
    "mass_sort_satflag = mass_sort[np.where(mass_sort['halo_satflag']==1)]\n",
    "mcf_nsat = mo.marked_tpcf(pos[np.where(mass_sort['halo_satflag']==1)], 10**logbins, marks1=mass_sort_satflag['halo_nsat'], period=lbox, normalize_by='number_counts', wfunc=1)\n",
    "\n",
    "mcfn_nsat = (mcf_nsat - np.mean(mass_sort_satflag['halo_nsat'])**2)/(np.var(mass_sort_satflag['halo_nsat']))\n",
    "\n",
    "# how we'll need to shuffle the marks N times, run the calculation N times,\n",
    "# and determine the min and max range of the mark calculation. So:\n",
    "mcf_vratio_rand = np.zeros((nstep, nrand))\n",
    "mcfn_vratio_rand = np.zeros((nstep, nrand))\n",
    "mcf_cnfw_rand = np.zeros((nstep, nrand))\n",
    "mcfn_cnfw_rand = np.zeros((nstep, nrand))\n",
    "mcf_ctoa_rand = np.zeros((nstep, nrand))\n",
    "mcfn_ctoa_rand = np.zeros((nstep, nrand))\n",
    "mcf_spin_rand = np.zeros((nstep, nrand))\n",
    "mcfn_spin_rand = np.zeros((nstep, nrand))\n",
    "mcf_nsat_rand = np.zeros((nstep, nrand))\n",
    "mcfn_nsat_rand = np.zeros((nstep, nrand))\n",
    "\n",
    "for i in range(0, nrand):\n",
    "    randm_vratio = np.random.permutation(mass_sort['halo_cV'])\n",
    "    randm_cnfw = np.random.permutation(mass_sort['halo_cNFW'])\n",
    "    randm_ctoa = np.random.permutation(mass_sort['halo_ctoa'])\n",
    "    randm_spin = np.random.permutation(mass_sort['halo_spin'])\n",
    "    randm_nsat = np.random.permutation(mass_sort_satflag['halo_nsat'])\n",
    "\n",
    "    mcf_vratio_rand[:,i] = mo.marked_tpcf(pos, 10**logbins, marks1=randm_vratio, period=lbox,\n",
    "                                      normalize_by='number_counts', wfunc=1)\n",
    "    mcfn_vratio_rand[:,i] = (mcf_vratio_rand[:,i] - np.mean(randm_vratio)**2)/(np.var(randm_vratio))\n",
    "    mcf_cnfw_rand[:,i] = mo.marked_tpcf(pos, 10**logbins, marks1=randm_cnfw, period=lbox,\n",
    "                                        normalize_by='number_counts', wfunc=1)\n",
    "    mcfn_cnfw_rand[:,i] = (mcf_cnfw_rand[:,i] - np.mean(randm_cnfw)**2)/(np.var(randm_cnfw))\n",
    "    mcf_ctoa_rand[:,i] = mo.marked_tpcf(pos, 10**logbins, marks1=randm_ctoa, period=lbox,\n",
    "                                        normalize_by='number_counts', wfunc=1)\n",
    "    mcfn_ctoa_rand[:,i] = (mcf_ctoa_rand[:,i] - np.mean(randm_ctoa)**2)/(np.var(randm_ctoa))\n",
    "    mcf_spin_rand[:,i] = mo.marked_tpcf(pos, 10**logbins, marks1=randm_spin, period=lbox,\n",
    "                                        normalize_by='number_counts', wfunc=1)\n",
    "    mcfn_spin_rand[:,i] = (mcf_spin_rand[:,i] - np.mean(randm_spin)**2)/(np.var(randm_spin))\n",
    "    mcf_nsat_rand[:,i] = mo.marked_tpcf(pos[np.where(mass_sort['halo_satflag']==1)], 10**logbins, marks1=randm_nsat, period=lbox, normalize_by='number_counts', wfunc=1)\n",
    "    mcfn_nsat_rand[:,i] = (mcf_nsat_rand[:,i] - np.mean(randm_nsat)**2)/(np.var(randm_nsat))\n",
    "\n",
    "mcfn_vratio_min = np.zeros(nstep)\n",
    "mcfn_vratio_max = np.zeros(nstep)\n",
    "mcfn_cnfw_min = np.zeros(nstep)\n",
    "mcfn_cnfw_max = np.zeros(nstep)\n",
    "mcfn_ctoa_min = np.zeros(nstep)\n",
    "mcfn_ctoa_max = np.zeros(nstep)\n",
    "mcfn_spin_min = np.zeros(nstep)\n",
    "mcfn_spin_max = np.zeros(nstep)\n",
    "mcfn_nsat_min = np.zeros(nstep)\n",
    "mcfn_nsat_max = np.zeros(nstep)\n",
    "\n",
    "for i in range(0, nstep):\n",
    "    mcfn_vratio_min[i] = np.percentile(mcfn_vratio_rand[i,:],2, interpolation='nearest')\n",
    "    mcfn_vratio_max[i] = np.percentile(mcfn_vratio_rand[i,:],98,interpolation='nearest')\n",
    "    mcfn_cnfw_min[i] = np.percentile(mcfn_cnfw_rand[i,:],2, interpolation='nearest')\n",
    "    mcfn_cnfw_max[i] = np.percentile(mcfn_cnfw_rand[i,:],98, interpolation='nearest')\n",
    "    mcfn_ctoa_min[i] = np.percentile(mcfn_ctoa_rand[i,:],2, interpolation='nearest')\n",
    "    mcfn_ctoa_max[i] = np.percentile(mcfn_ctoa_rand[i,:],98, interpolation='nearest')\n",
    "    mcfn_spin_min[i] = np.percentile(mcfn_spin_rand[i,:],2, interpolation='nearest')\n",
    "    mcfn_spin_max[i] = np.percentile(mcfn_spin_rand[i,:],98, interpolation='nearest')\n",
    "    mcfn_nsat_min[i] = np.percentile(mcfn_nsat_rand[i,:],2, interpolation='nearest')\n",
    "    mcfn_nsat_max[i] = np.percentile(mcfn_nsat_rand[i,:],98, interpolation='nearest')"
   ]
  },
  {
   "cell_type": "code",
   "execution_count": 48,
   "metadata": {
    "collapsed": false
   },
   "outputs": [
    {
     "name": "stdout",
     "output_type": "stream",
     "text": [
      "38623\n"
     ]
    }
   ],
   "source": [
    "cnfw_sort = np.sort(mass_sort, order='halo_cNFW')\n",
    "print len(cnfw_sort)\n",
    "\n",
    "lowlim=int(np.floor(.2*len(cnfw_sort)))\n",
    "highlim=int(np.floor(.8*len(cnfw_sort)))\n",
    "low_cnfw_sort = cnfw_sort[0:lowlim]\n",
    "high_cnfw_sort = cnfw_sort[highlim:-1]\n",
    "lowpos = np.vstack((low_cnfw_sort['halo_x'], low_cnfw_sort['halo_y'], low_cnfw_sort['halo_z'])).T\n",
    "highpos = np.vstack((high_cnfw_sort['halo_x'], high_cnfw_sort['halo_y'], high_cnfw_sort['halo_z'])).T\n",
    "x_rand = lbox * np.random.random(len(lowpos)*3)\n",
    "y_rand = lbox * np.random.random(len(lowpos)*3)\n",
    "z_rand = lbox * np.random.random(len(lowpos)*3)\n",
    "randpos = np.vstack((x_rand,y_rand,z_rand)).T\n",
    "Nsub = np.array([2,2,2])\n",
    "xi_low, cov_low = mo.tpcf_jackknife(lowpos, randoms=randpos, rbins=10**logbins, Nsub=Nsub, period=lbox)\n",
    "xi_high, cov_high = mo.tpcf_jackknife(highpos, randoms=randpos, rbins=10**logbins, Nsub=Nsub, period=lbox)\n",
    "error_low = np.sqrt(1./np.diag(cov_low))\n",
    "error_high = np.sqrt(1./np.diag(cov_high))\n",
    "yerr_low_low = np.maximum(1e-2, xi_low - error_low)\n",
    "yerr_high_low = xi_low + error_low\n",
    "yerr_low_high = np.maximum(1e-2, xi_high - error_high)\n",
    "yerr_high_high = xi_high + error_high\n",
    "\n",
    "xi_comp_20p = (xi_high - xi_low) / xi"
   ]
  },
  {
   "cell_type": "code",
   "execution_count": 49,
   "metadata": {
    "collapsed": true
   },
   "outputs": [],
   "source": [
    "lowlim=int(np.floor(.5*len(cnfw_sort)))\n",
    "highlim=int(np.floor(.5*len(cnfw_sort)))\n",
    "low_cnfw_sort = cnfw_sort[0:lowlim]\n",
    "high_cnfw_sort = cnfw_sort[highlim:-1]\n",
    "lowpos = np.vstack((low_cnfw_sort['halo_x'], low_cnfw_sort['halo_y'], low_cnfw_sort['halo_z'])).T\n",
    "highpos = np.vstack((high_cnfw_sort['halo_x'], high_cnfw_sort['halo_y'], high_cnfw_sort['halo_z'])).T\n",
    "x_rand = lbox * np.random.random(len(lowpos)*3)\n",
    "y_rand = lbox * np.random.random(len(lowpos)*3)\n",
    "z_rand = lbox * np.random.random(len(lowpos)*3)\n",
    "randpos = np.vstack((x_rand,y_rand,z_rand)).T\n",
    "Nsub = np.array([2,2,2])\n",
    "xi_low, cov_low = mo.tpcf_jackknife(lowpos, randoms=randpos, rbins=10**logbins, Nsub=Nsub, period=lbox)\n",
    "xi_high, cov_high = mo.tpcf_jackknife(highpos, randoms=randpos, rbins=10**logbins, Nsub=Nsub, period=lbox)\n",
    "error_low = np.sqrt(1./np.diag(cov_low))\n",
    "error_high = np.sqrt(1./np.diag(cov_high))\n",
    "yerr_low_low = np.maximum(1e-2, xi_low - error_low)\n",
    "yerr_high_low = xi_low + error_low\n",
    "yerr_low_high = np.maximum(1e-2, xi_high - error_high)\n",
    "yerr_high_high = xi_high + error_high\n",
    "\n",
    "xi_comp_50p = (xi_high - xi_low) / xi"
   ]
  },
  {
   "cell_type": "code",
   "execution_count": 50,
   "metadata": {
    "collapsed": true
   },
   "outputs": [],
   "source": [
    "lowlim=int(np.floor(.02*len(cnfw_sort)))\n",
    "highlim=int(np.floor(.98*len(cnfw_sort)))\n",
    "low_cnfw_sort = cnfw_sort[0:lowlim]\n",
    "high_cnfw_sort = cnfw_sort[highlim:-1]\n",
    "lowpos = np.vstack((low_cnfw_sort['halo_x'], low_cnfw_sort['halo_y'], low_cnfw_sort['halo_z'])).T\n",
    "highpos = np.vstack((high_cnfw_sort['halo_x'], high_cnfw_sort['halo_y'], high_cnfw_sort['halo_z'])).T\n",
    "x_rand = lbox * np.random.random(len(lowpos)*3)\n",
    "y_rand = lbox * np.random.random(len(lowpos)*3)\n",
    "z_rand = lbox * np.random.random(len(lowpos)*3)\n",
    "randpos = np.vstack((x_rand,y_rand,z_rand)).T\n",
    "Nsub = np.array([2,2,2])\n",
    "xi_low, cov_low = mo.tpcf_jackknife(lowpos, randoms=randpos, rbins=10**logbins, Nsub=Nsub, period=lbox)\n",
    "xi_high, cov_high = mo.tpcf_jackknife(highpos, randoms=randpos, rbins=10**logbins, Nsub=Nsub, period=lbox)\n",
    "error_low = np.sqrt(1./np.diag(cov_low))\n",
    "error_high = np.sqrt(1./np.diag(cov_high))\n",
    "yerr_low_low = np.maximum(1e-2, xi_low - error_low)\n",
    "yerr_high_low = xi_low + error_low\n",
    "yerr_low_high = np.maximum(1e-2, xi_high - error_high)\n",
    "yerr_high_high = xi_high + error_high\n",
    "\n",
    "xi_comp_2p = (xi_high - xi_low) / xi"
   ]
  },
  {
   "cell_type": "code",
   "execution_count": 51,
   "metadata": {
    "collapsed": true
   },
   "outputs": [],
   "source": [
    "lowlim=int(np.floor(.10*len(cnfw_sort)))\n",
    "highlim=int(np.floor(.90*len(cnfw_sort)))\n",
    "low_cnfw_sort = cnfw_sort[0:lowlim]\n",
    "high_cnfw_sort = cnfw_sort[highlim:-1]\n",
    "lowpos = np.vstack((low_cnfw_sort['halo_x'], low_cnfw_sort['halo_y'], low_cnfw_sort['halo_z'])).T\n",
    "highpos = np.vstack((high_cnfw_sort['halo_x'], high_cnfw_sort['halo_y'], high_cnfw_sort['halo_z'])).T\n",
    "x_rand = lbox * np.random.random(len(lowpos)*3)\n",
    "y_rand = lbox * np.random.random(len(lowpos)*3)\n",
    "z_rand = lbox * np.random.random(len(lowpos)*3)\n",
    "randpos = np.vstack((x_rand,y_rand,z_rand)).T\n",
    "Nsub = np.array([2,2,2])\n",
    "xi_low, cov_low = mo.tpcf_jackknife(lowpos, randoms=randpos, rbins=10**logbins, Nsub=Nsub, period=lbox)\n",
    "xi_high, cov_high = mo.tpcf_jackknife(highpos, randoms=randpos, rbins=10**logbins, Nsub=Nsub, period=lbox)\n",
    "error_low = np.sqrt(1./np.diag(cov_low))\n",
    "error_high = np.sqrt(1./np.diag(cov_high))\n",
    "yerr_low_low = np.maximum(1e-2, xi_low - error_low)\n",
    "yerr_high_low = xi_low + error_low\n",
    "yerr_low_high = np.maximum(1e-2, xi_high - error_high)\n",
    "yerr_high_high = xi_high + error_high\n",
    "\n",
    "xi_comp_10p = (xi_high - xi_low) / xi"
   ]
  },
  {
   "cell_type": "code",
   "execution_count": 52,
   "metadata": {
    "collapsed": false
   },
   "outputs": [
    {
     "data": {
      "text/plain": [
       "<matplotlib.legend.Legend at 0x7fa0db645510>"
      ]
     },
     "execution_count": 52,
     "metadata": {},
     "output_type": "execute_result"
    },
    {
     "data": {
      "image/png": "[encoded data removed]",
      "text/plain": [
       "<matplotlib.figure.Figure at 0x7fa124a85ed0>"
      ]
     },
     "metadata": {},
     "output_type": "display_data"
    }
   ],
   "source": [
    "plt.semilogx(10**binmids, xi_comp_2p, 'b-', label='2p')\n",
    "plt.semilogx(10**binmids, xi_comp_10p, 'k-', label='10p')\n",
    "plt.semilogx(10**binmids, xi_comp_20p, 'r-', label='20p')\n",
    "plt.semilogx(10**binmids, xi_comp_50p, 'g-', label='50p')\n",
    "plt.xlim(4,18)\n",
    "plt.ylim(-1,5)\n",
    "plt.xlabel('r')\n",
    "plt.ylabel('concentration comparison')\n",
    "plt.legend(loc='upper right')"
   ]
  },
  {
   "cell_type": "code",
   "execution_count": null,
   "metadata": {
    "collapsed": true
   },
   "outputs": [],
   "source": []
  },
  {
   "cell_type": "code",
   "execution_count": null,
   "metadata": {
    "collapsed": true
   },
   "outputs": [],
   "source": [
    "\n"
   ]
  }
 ],
 "metadata": {
  "kernelspec": {
   "display_name": "Python 2",
   "language": "python",
   "name": "python2"
  },
  "language_info": {
   "codemirror_mode": {
    "name": "ipython",
    "version": 2
   },
   "file_extension": ".py",
   "mimetype": "text/x-python",
   "name": "python",
   "nbconvert_exporter": "python",
   "pygments_lexer": "ipython2",
   "version": "2.7.11"
  }
 },
 "nbformat": 4,
 "nbformat_minor": 0
}
