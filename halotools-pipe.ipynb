{
 "metadata": {
  "name": "",
  "signature": "sha256:3e2a10e0a5e3462e1e9cd17ab28df9146dbdcfa9fd4a683fc04bfc119bb4309d"
 },
 "nbformat": 3,
 "nbformat_minor": 0,
 "worksheets": [
  {
   "cells": [
    {
     "cell_type": "markdown",
     "metadata": {},
     "source": [
      "Primary goal is to define a function by which we give it a file name and mass threshold and the entirety of the calculation in terms of CFs, MCFs, and various cuts are output as a single data vector. We will start by assuming a value of fname and mthresh and go from there, and see what needs changing."
     ]
    },
    {
     "cell_type": "code",
     "collapsed": false,
     "input": [
      "# required imports for the function here\n",
      "import numpy as np\n",
      "import matplotlib.pyplot as plt\n",
      "import scipy.stats as stats\n",
      "import halotools.mock_observables as mo\n",
      "import halotools.sim_manager as sm"
     ],
     "language": "python",
     "metadata": {},
     "outputs": [],
     "prompt_number": 1
    },
    {
     "cell_type": "code",
     "collapsed": false,
     "input": [
      "fname = './l0125_d100b.catalog' # file name to z0.0.catalog\n",
      "mthresh = 8e10  # threshold mass in Msun/h\n",
      "gnewton = 4.302e-6\n",
      "lbox = 125\n",
      "\n",
      "# define dict pointing to all marks of interest\n",
      "rs_dict = {'halo_id':(0,'i8'), 'halo_mass':(2,'f8'), 'halo_vmax':(3,'f8'), 'halo_rvir':(5,'f8'),\n",
      "           'halo_rs':(6,'f8'), 'halo_x':(8,'f8'), 'halo_y':(9,'f8'), 'halo_z':(10,'f8'),\n",
      "           'halo_spin':(17,'f8'), 'halo_ctoa':(28, 'f8'), 'halo_pid':(33,'i8'),\n",
      "           'halo_cnfw':(11,'f8'), 'halo_vratio':(12,'f8')}\n",
      "\n",
      "reader = sm.TabularAsciiReader(fname, rs_dict, row_cut_min_dict={'halo_mass':mthresh},\n",
      "                               row_cut_eq_dict={'halo_pid':-1})\n",
      "hosts_data = reader.read_ascii()\n",
      "\n",
      "# add vratio mark\n",
      "vratio_temp = hosts_data['halo_vmax']/(np.sqrt(gnewton * hosts_data['halo_mass']/hosts_data['halo_rvir']))\n",
      "hosts_data['halo_vratio'] = vratio_temp\n",
      "cnfw_temp = hosts_data['halo_rvir']/hosts_data['halo_rs']\n",
      "hosts_data['halo_cnfw'] = cnfw_temp\n",
      "\n",
      "# now that we have data, we need to mass correct all of our marks\n",
      "mass_sort = np.sort(hosts_data, order='halo_mass')\n",
      "\n",
      "vratio_binned = stats.binned_statistic(np.log10(mass_sort['halo_mass']), \n",
      "                                       np.log10(mass_sort['halo_vratio']),\n",
      "                                       statistic='mean', bins=10)\n",
      "vratio_fix = np.log10(mass_sort['halo_vratio']) - vratio_binned.statistic[vratio_binned.binnumber-1]\n",
      "mass_sort['halo_vratio'] = vratio_fix\n",
      "\n",
      "cnfw_binned = stats.binned_statistic(np.log10(mass_sort['halo_mass']), \n",
      "                                     np.log10(mass_sort['halo_cnfw']),\n",
      "                                     statistic = 'mean', bins=10)\n",
      "cnfw_fix = np.log10(mass_sort['halo_cnfw']) - cnfw_binned.statistic[cnfw_binned.binnumber-1]\n",
      "mass_sort['halo_cnfw'] = cnfw_fix\n",
      "\n",
      "shape_binned = stats.binned_statistic(np.log10(mass_sort['halo_mass']), \n",
      "                                      np.log10(mass_sort['halo_ctoa']),\n",
      "                                      statistic='mean', bins=10)\n",
      "shape_fix = np.log10(mass_sort['halo_ctoa']) - shape_binned.statistic[shape_binned.binnumber-1]\n",
      "mass_sort['halo_ctoa'] = shape_fix\n",
      "\n",
      "spin_binned = stats.binned_statistic(np.log10(mass_sort['halo_mass']), \n",
      "                                     (mass_sort['halo_spin']),\n",
      "                                     statistic='mean', bins=10)\n",
      "spin_fix = (mass_sort['halo_spin']) - spin_binned.statistic[spin_binned.binnumber-1]\n",
      "mass_sort['halo_spin'] = spin_fix\n",
      "\n",
      "# now all our marks have been fixed. First let's run through the marked correlation functions\n",
      "# then we can take various correlation function comparisons\n",
      "\n",
      "pos = np.vstack((mass_sort['halo_x'], mass_sort['halo_y'], mass_sort['halo_z'])).T\n",
      "\n",
      "minlog = np.log10(3.0)\n",
      "maxlog = np.log10(30.0)\n",
      "nstep = 30\n",
      "steplog = (maxlog - minlog) / (nstep - 1.)\n",
      "logbins = np.arange(minlog, maxlog+steplog, steplog)\n",
      "binmids = np.zeros(30)\n",
      "for i in range(0,nstep):\n",
      "    binmids[i] = (logbins[i]+logbins[i+1])/2.\n",
      "\n",
      "xi = mo.tpcf(pos, 10**logbins, period=250.0)\n",
      "\n",
      "mcf_vratio = mo.marked_tpcf(pos, 10**logbins, marks1=mass_sort['halo_vratio'], period=lbox,\n",
      "                            normalize_by='number_counts', wfunc=1)\n",
      "mcfn_vratio = (mcf_vratio - np.mean(mass_sort['halo_vratio'])**2)/(np.var(mass_sort['halo_vratio']))\n",
      "\n",
      "mcf_cnfw = mo.marked_tpcf(pos, 10**logbins, marks1=mass_sort['halo_cnfw'], period=lbox,\n",
      "                          normalize_by='number_counts', wfunc=1)\n",
      "mcfn_cnfw = (mcf_cnfw - np.mean(mass_sort['halo_cnfw'])**2)/(np.var(mass_sort['halo_cnfw']))\n",
      "\n",
      "mcf_ctoa = mo.marked_tpcf(pos, 10**logbins, marks1=mass_sort['halo_ctoa'], period=lbox,\n",
      "                          normalize_by='number_counts', wfunc=1)\n",
      "mcfn_ctoa = (mcf_ctoa - np.mean(mass_sort['halo_ctoa'])**2)/(np.var(mass_sort['halo_ctoa']))\n",
      "\n",
      "mcf_spin = mo.marked_tpcf(pos, 10**logbins, marks1=mass_sort['halo_spin'], period=lbox,\n",
      "                          normalize_by='number_counts', wfunc=1)\n",
      "mcfn_spin = (mcf_spin - np.mean(mass_sort['halo_spin'])**2)/(np.var(mass_sort['halo_spin']))\n",
      "\n",
      "# how we'll need to shuffle the marks N times, run the calculation N times,\n",
      "# and determine the min and max range of the mark calculation. So:\n",
      "nrand = 50\n",
      "mcf_vratio_rand = np.zeros((nstep, nrand))\n",
      "mcfn_vratio_rand = np.zeros((nstep, nrand))\n",
      "mcf_cnfw_rand = np.zeros((nstep, nrand))\n",
      "mcfn_cnfw_rand = np.zeros((nstep, nrand))\n",
      "mcf_ctoa_rand = np.zeros((nstep, nrand))\n",
      "mcfn_ctoa_rand = np.zeros((nstep, nrand))\n",
      "mcf_spin_rand = np.zeros((nstep, nrand))\n",
      "mcfn_spin_rand = np.zeros((nstep, nrand))\n",
      "for i in range(0, nrand):\n",
      "    randm_vratio = np.random.permutation(mass_sort['halo_vratio'])\n",
      "    randm_cnfw = np.random.permutation(mass_sort['halo_cnfw'])\n",
      "    randm_ctoa = np.random.permutation(mass_sort['halo_ctoa'])\n",
      "    randm_spin = np.random.permutation(mass_sort['halo_spin'])\n",
      "    mcf_vratio_rand[:,i] = mo.marked_tpcf(pos, 10**logbins, marks1=randm_vratio, period=lbox,\n",
      "                                      normalize_by='number_counts', wfunc=1)\n",
      "    mcfn_vratio_rand[:,i] = (mcf_vratio_rand[:,i] - np.mean(randm_vratio)**2)/(np.var(randm_vratio))\n",
      "    mcf_cnfw_rand[:,i] = mo.marked_tpcf(pos, 10**logbins, marks1=randm_cnfw, period=lbox,\n",
      "                                        normalize_by='number_counts', wfunc=1)\n",
      "    mcfn_cnfw_rand[:,i] = (mcf_cnfw_rand[:,i] - np.mean(randm_cnfw)**2)/(np.var(randm_cnfw))\n",
      "    mcf_ctoa_rand[:,i] = mo.marked_tpcf(pos, 10**logbins, marks1=randm_ctoa, period=lbox,\n",
      "                                        normalize_by='number_counts', wfunc=1)\n",
      "    mcfn_ctoa_rand[:,i] = (mcf_ctoa_rand[:,i] - np.mean(randm_ctoa)**2)/(np.var(randm_ctoa))\n",
      "    mcf_spin_rand[:,i] = mo.marked_tpcf(pos, 10**logbins, marks1=randm_spin, period=lbox,\n",
      "                                        normalize_by='number_counts', wfunc=1)\n",
      "    mcfn_spin_rand[:,i] = (mcf_spin_rand[:,i] - np.mean(randm_spin)**2)/(np.var(randm_spin))\n",
      "\n",
      "mcfn_vratio_min = np.zeros(nstep)\n",
      "mcfn_vratio_max = np.zeros(nstep)\n",
      "mcfn_cnfw_min = np.zeros(nstep)\n",
      "mcfn_cnfw_max = np.zeros(nstep)\n",
      "mcfn_ctoa_min = np.zeros(nstep)\n",
      "mcfn_ctoa_max = np.zeros(nstep)\n",
      "mcfn_spin_min = np.zeros(nstep)\n",
      "mcfn_spin_max = np.zeros(nstep)\n",
      "for i in range(0, nstep):\n",
      "    mcfn_vratio_min[i] = np.percentile(mcfn_vratio_rand[i,:],2, interpolation='nearest')\n",
      "    mcfn_vratio_max[i] = np.percentile(mcfn_vratio_rand[i,:],98,interpolation='nearest')\n",
      "    mcfn_cnfw_min[i] = np.percentile(mcfn_cnfw_rand[i,:],2, interpolation='nearest')\n",
      "    mcfn_cnfw_max[i] = np.percentile(mcfn_cnfw_rand[i,:],98, interpolation='nearest')\n",
      "    mcfn_ctoa_min[i] = np.percentile(mcfn_ctoa_rand[i,:],2, interpolation='nearest')\n",
      "    mcfn_ctoa_max[i] = np.percentile(mcfn_ctoa_rand[i,:],98, interpolation='nearest')\n",
      "    mcfn_spin_min[i] = np.percentile(mcfn_spin_rand[i,:],2, interpolation='nearest')\n",
      "    mcfn_spin_max[i] = np.percentile(mcfn_spin_rand[i,:],98, interpolation='nearest')"
     ],
     "language": "python",
     "metadata": {},
     "outputs": [
      {
       "output_type": "stream",
       "stream": "stdout",
       "text": [
        "\n",
        "...Processing ASCII data of file: \n",
        "/root/Documents/PROJECTS/HALOENVIRON/haloenviron-pipeline/l0125_d100b.catalog\n",
        " \n",
        "Total number of rows in detected data = 1982374"
       ]
      },
      {
       "output_type": "stream",
       "stream": "stdout",
       "text": [
        "\n",
        "Number of rows in detected header = 15 \n",
        "\n",
        "... working on chunk 0 of 1\n",
        "Total runtime to read in ASCII = 25.51 seconds\n"
       ]
      },
      {
       "output_type": "stream",
       "stream": "stdout",
       "text": [
        "\n",
        "\u0007\n"
       ]
      },
      {
       "ename": "KeyboardInterrupt",
       "evalue": "",
       "output_type": "pyerr",
       "traceback": [
        "\u001b[1;31m---------------------------------------------------------------------------\u001b[0m\n\u001b[1;31mKeyboardInterrupt\u001b[0m                         Traceback (most recent call last)",
        "\u001b[1;32m<ipython-input-2-c0d2445f0622>\u001b[0m in \u001b[0;36m<module>\u001b[1;34m()\u001b[0m\n\u001b[0;32m     96\u001b[0m     \u001b[0mrandm_spin\u001b[0m \u001b[1;33m=\u001b[0m \u001b[0mnp\u001b[0m\u001b[1;33m.\u001b[0m\u001b[0mrandom\u001b[0m\u001b[1;33m.\u001b[0m\u001b[0mpermutation\u001b[0m\u001b[1;33m(\u001b[0m\u001b[0mmass_sort\u001b[0m\u001b[1;33m[\u001b[0m\u001b[1;34m'halo_spin'\u001b[0m\u001b[1;33m]\u001b[0m\u001b[1;33m)\u001b[0m\u001b[1;33m\u001b[0m\u001b[0m\n\u001b[0;32m     97\u001b[0m     mcf_vratio_rand[:,i] = mo.marked_tpcf(pos, 10**logbins, marks1=randm_vratio, period=lbox,\n\u001b[1;32m---> 98\u001b[1;33m                                       normalize_by='number_counts', wfunc=1)\n\u001b[0m\u001b[0;32m     99\u001b[0m     \u001b[0mmcfn_vratio_rand\u001b[0m\u001b[1;33m[\u001b[0m\u001b[1;33m:\u001b[0m\u001b[1;33m,\u001b[0m\u001b[0mi\u001b[0m\u001b[1;33m]\u001b[0m \u001b[1;33m=\u001b[0m \u001b[1;33m(\u001b[0m\u001b[0mmcf_vratio_rand\u001b[0m\u001b[1;33m[\u001b[0m\u001b[1;33m:\u001b[0m\u001b[1;33m,\u001b[0m\u001b[0mi\u001b[0m\u001b[1;33m]\u001b[0m \u001b[1;33m-\u001b[0m \u001b[0mnp\u001b[0m\u001b[1;33m.\u001b[0m\u001b[0mmean\u001b[0m\u001b[1;33m(\u001b[0m\u001b[0mrandm_vratio\u001b[0m\u001b[1;33m)\u001b[0m\u001b[1;33m**\u001b[0m\u001b[1;36m2\u001b[0m\u001b[1;33m)\u001b[0m\u001b[1;33m/\u001b[0m\u001b[1;33m(\u001b[0m\u001b[0mnp\u001b[0m\u001b[1;33m.\u001b[0m\u001b[0mvar\u001b[0m\u001b[1;33m(\u001b[0m\u001b[0mrandm_vratio\u001b[0m\u001b[1;33m)\u001b[0m\u001b[1;33m)\u001b[0m\u001b[1;33m\u001b[0m\u001b[0m\n\u001b[0;32m    100\u001b[0m     mcf_cnfw_rand[:,i] = mo.marked_tpcf(pos, 10**logbins, marks1=randm_cnfw, period=lbox,\n",
        "\u001b[1;32m/root/anaconda/lib/python2.7/site-packages/halotools-0.1.dev3548-py2.7-linux-x86_64.egg/halotools/mock_observables/marked_tpcf.pyc\u001b[0m in \u001b[0;36mmarked_tpcf\u001b[1;34m(sample1, rbins, sample2, marks1, marks2, period, do_auto, do_cross, num_threads, max_sample_size, wfunc, normalize_by, iterations, randomize_marks)\u001b[0m\n\u001b[0;32m    415\u001b[0m                                         \u001b[0mnum_threads\u001b[0m\u001b[1;33m,\u001b[0m \u001b[0mdo_auto\u001b[0m\u001b[1;33m,\u001b[0m \u001b[0mdo_cross\u001b[0m\u001b[1;33m,\u001b[0m\u001b[0;31m\\\u001b[0m\u001b[1;33m\u001b[0m\u001b[0m\n\u001b[0;32m    416\u001b[0m                                         \u001b[0mmarks1\u001b[0m\u001b[1;33m,\u001b[0m \u001b[0mmarks2\u001b[0m\u001b[1;33m,\u001b[0m \u001b[0mwfunc\u001b[0m\u001b[1;33m,\u001b[0m\u001b[0;31m\\\u001b[0m\u001b[1;33m\u001b[0m\u001b[0m\n\u001b[1;32m--> 417\u001b[1;33m                                         _sample1_is_sample2)\n\u001b[0m\u001b[0;32m    418\u001b[0m \u001b[1;33m\u001b[0m\u001b[0m\n\u001b[0;32m    419\u001b[0m     \u001b[1;32mif\u001b[0m \u001b[0mnormalize_by\u001b[0m\u001b[1;33m==\u001b[0m\u001b[1;34m'number_counts'\u001b[0m\u001b[1;33m:\u001b[0m\u001b[1;33m\u001b[0m\u001b[0m\n",
        "\u001b[1;32m/root/anaconda/lib/python2.7/site-packages/halotools-0.1.dev3548-py2.7-linux-x86_64.egg/halotools/mock_observables/marked_tpcf.pyc\u001b[0m in \u001b[0;36mmarked_pair_counts\u001b[1;34m(sample1, sample2, rbins, period, num_threads, do_auto, do_cross, marks1, marks2, wfunc, _sample1_is_sample2)\u001b[0m\n\u001b[0;32m    300\u001b[0m                                  \u001b[0mweights1\u001b[0m\u001b[1;33m=\u001b[0m\u001b[0mmarks1\u001b[0m\u001b[1;33m,\u001b[0m \u001b[0mweights2\u001b[0m\u001b[1;33m=\u001b[0m\u001b[0mmarks1\u001b[0m\u001b[1;33m,\u001b[0m\u001b[0;31m\\\u001b[0m\u001b[1;33m\u001b[0m\u001b[0m\n\u001b[0;32m    301\u001b[0m                                  \u001b[0mwfunc\u001b[0m \u001b[1;33m=\u001b[0m \u001b[0mwfunc\u001b[0m\u001b[1;33m,\u001b[0m\u001b[0;31m\\\u001b[0m\u001b[1;33m\u001b[0m\u001b[0m\n\u001b[1;32m--> 302\u001b[1;33m                                  period=period, num_threads=num_threads)\n\u001b[0m\u001b[0;32m    303\u001b[0m             \u001b[0mD1D1\u001b[0m \u001b[1;33m=\u001b[0m \u001b[0mnp\u001b[0m\u001b[1;33m.\u001b[0m\u001b[0mdiff\u001b[0m\u001b[1;33m(\u001b[0m\u001b[0mD1D1\u001b[0m\u001b[1;33m)\u001b[0m\u001b[1;33m\u001b[0m\u001b[0m\n\u001b[0;32m    304\u001b[0m         \u001b[1;32melse\u001b[0m\u001b[1;33m:\u001b[0m\u001b[1;33m\u001b[0m\u001b[0m\n",
        "\u001b[1;32m/root/anaconda/lib/python2.7/site-packages/halotools-0.1.dev3548-py2.7-linux-x86_64.egg/halotools/mock_observables/pair_counters/marked_double_tree_pairs.pyc\u001b[0m in \u001b[0;36mmarked_npairs\u001b[1;34m(data1, data2, rbins, period, weights1, weights2, wfunc, verbose, num_threads, approx_cell1_size, approx_cell2_size)\u001b[0m\n\u001b[0;32m    145\u001b[0m         \u001b[0mpool\u001b[0m\u001b[1;33m.\u001b[0m\u001b[0mclose\u001b[0m\u001b[1;33m(\u001b[0m\u001b[1;33m)\u001b[0m\u001b[1;33m\u001b[0m\u001b[0m\n\u001b[0;32m    146\u001b[0m     \u001b[1;32melse\u001b[0m\u001b[1;33m:\u001b[0m\u001b[1;33m\u001b[0m\u001b[0m\n\u001b[1;32m--> 147\u001b[1;33m         \u001b[0mcounts\u001b[0m \u001b[1;33m=\u001b[0m \u001b[0mnp\u001b[0m\u001b[1;33m.\u001b[0m\u001b[0msum\u001b[0m\u001b[1;33m(\u001b[0m\u001b[0mmap\u001b[0m\u001b[1;33m(\u001b[0m\u001b[0mengine\u001b[0m\u001b[1;33m,\u001b[0m\u001b[0mrange\u001b[0m\u001b[1;33m(\u001b[0m\u001b[0mNcell1\u001b[0m\u001b[1;33m)\u001b[0m\u001b[1;33m)\u001b[0m\u001b[1;33m,\u001b[0m\u001b[0maxis\u001b[0m\u001b[1;33m=\u001b[0m\u001b[1;36m0\u001b[0m\u001b[1;33m)\u001b[0m\u001b[1;33m\u001b[0m\u001b[0m\n\u001b[0m\u001b[0;32m    148\u001b[0m \u001b[1;33m\u001b[0m\u001b[0m\n\u001b[0;32m    149\u001b[0m     \u001b[1;32mreturn\u001b[0m \u001b[0mcounts\u001b[0m\u001b[1;33m\u001b[0m\u001b[0m\n",
        "\u001b[1;32m/root/anaconda/lib/python2.7/site-packages/halotools-0.1.dev3548-py2.7-linux-x86_64.egg/halotools/mock_observables/pair_counters/marked_double_tree_pairs.pyc\u001b[0m in \u001b[0;36m_marked_npairs_engine\u001b[1;34m(double_tree, weights1, weights2, rbins, period, PBCs, wfunc, icell1)\u001b[0m\n\u001b[0;32m    196\u001b[0m                                        \u001b[0mx_icell2\u001b[0m\u001b[1;33m,\u001b[0m \u001b[0my_icell2\u001b[0m\u001b[1;33m,\u001b[0m \u001b[0mz_icell2\u001b[0m\u001b[1;33m,\u001b[0m\u001b[1;33m\u001b[0m\u001b[0m\n\u001b[0;32m    197\u001b[0m                                        \u001b[0mw_icell1\u001b[0m\u001b[1;33m,\u001b[0m \u001b[0mw_icell2\u001b[0m\u001b[1;33m,\u001b[0m\u001b[1;33m\u001b[0m\u001b[0m\n\u001b[1;32m--> 198\u001b[1;33m                                        rbins, wfunc, shift)\n\u001b[0m\u001b[0;32m    199\u001b[0m \u001b[1;33m\u001b[0m\u001b[0m\n\u001b[0;32m    200\u001b[0m     \u001b[1;32mreturn\u001b[0m \u001b[0mcounts\u001b[0m\u001b[1;33m\u001b[0m\u001b[0m\n",
        "\u001b[1;31mKeyboardInterrupt\u001b[0m: "
       ]
      }
     ],
     "prompt_number": 2
    },
    {
     "cell_type": "code",
     "collapsed": false,
     "input": [
      "plt.semilogx(10**binmids, mcfn_vratio, 'r-')\n",
      "plt.fill_between(10**binmids, mcfn_vratio_min, mcfn_vratio_max, facecolor='red', alpha=0.3)"
     ],
     "language": "python",
     "metadata": {},
     "outputs": []
    },
    {
     "cell_type": "code",
     "collapsed": false,
     "input": [
      "plt.semilogx(10**binmids, mcfn_cnfw, 'r-')\n",
      "plt.fill_between(10**binmids, mcfn_cnfw_min, mcfn_cnfw_max, facecolor='red', alpha=0.3)\n"
     ],
     "language": "python",
     "metadata": {},
     "outputs": []
    },
    {
     "cell_type": "code",
     "collapsed": false,
     "input": [
      "plt.semilogx(10**binmids, mcfn_ctoa, 'r-')\n",
      "plt.fill_between(10**binmids, mcfn_ctoa_min, mcfn_ctoa_max, facecolor='red', alpha=0.3)"
     ],
     "language": "python",
     "metadata": {},
     "outputs": []
    },
    {
     "cell_type": "code",
     "collapsed": false,
     "input": [
      "plt.semilogx(10**binmids, mcfn_spin, 'r-')\n",
      "plt.fill_between(10**binmids, mcfn_spin_min, mcfn_spin_max, facecolor='red', alpha=0.3)"
     ],
     "language": "python",
     "metadata": {},
     "outputs": []
    },
    {
     "cell_type": "code",
     "collapsed": false,
     "input": [
      "cnfw_sort = np.sort(hosts_data, order='halo_cnfw')\n",
      "print len(cnfw_sort)"
     ],
     "language": "python",
     "metadata": {},
     "outputs": []
    },
    {
     "cell_type": "code",
     "collapsed": false,
     "input": [
      "lowlim=int(floor(.2*len(cnfw_sort)))\n",
      "highlim=int(floor(.2*len(cnfw_sort)))\n",
      "low_cnfw_sort = cnfw_sort[0:lowlim]\n",
      "high_cnfw_sort = cnfw_sort[highlim:-1]\n",
      "lowpos = np.vstack((low_cnfw_sort['halo_x'], low_cnfw_sort['halo_y'], low_cnfw_sort['halo_z'])).T\n",
      "highpos = np.vstack((high_cnfw_sort['halo_x'], high_cnfw_sort['halo_y'], high_cnfw_sort['halo_z'])).T\n",
      "x_rand = lbox * np.random.random(len(lowpos)*3)\n",
      "y_rand = lbox * np.random.random(len(lowpos)*3)\n",
      "z_rand = lbox * np.random.random(len(lowpos)*3)\n",
      "randpos = np.vstack((x_rand,y_rand,z_rand)).T\n",
      "Nsub = np.array([2,2,2])\n",
      "xi_low, cov_low = mo.tpcf_jackknife(lowpos, randoms=randpos, rbins=10**logbins, Nsub=Nsub, period=lbox)\n",
      "xi_high, cov_high = mo.tpcf_jackknife(highpos, randoms=randpos, rbins=10**logbins, Nsub=Nsub, period=lbox)\n",
      "error_low = np.sqrt(1./np.diag(cov_low))\n",
      "error_high = np.sqrt(1./np.diag(cov_high))\n",
      "yerr_low_low = np.maximum(1e-2, xi_low - error_low)\n",
      "yerr_high_low = xi_low + error_low\n",
      "yerr_low_high = np.maximum(1e-2, xi_high - error_high)\n",
      "yerr_high_high = xi_high + error_high\n",
      "\n",
      "ax = plt.subplot(111)\n",
      "plt.errorbar(10**binmids, xi_low, yerr=[yerr_low_low, yerr_high_low], fmt='b.')\n",
      "plt.errorbar(10**binmids, xi_high, yerr=[yerr_low_high, yerr_high_high], fmt='r.')\n",
      "ax.set_xscale('log')\n",
      "ax.set_yscale('log')"
     ],
     "language": "python",
     "metadata": {},
     "outputs": []
    },
    {
     "cell_type": "code",
     "collapsed": false,
     "input": [
      "np.savetxt('l0125_m8e10_d100b.dat', np.transpose([10**binmids, xi, xi_low, xi_high, mcfn_vratio, mcfn_vratio_min, \n",
      "                                                  mcfn_vratio_max, mcfn_cnfw, mcfn_cnfw_min, mcfn_cnfw_max, mcfn_ctoa,\n",
      "                                                  mcfn_ctoa_min, mcfn_ctoa_max, mcfn_spin, mcfn_spin_min, mcfn_spin_max]), \n",
      "header='r xi xi_low xi_high mcfn_vratio +low +high mcfn_cnfw +low +high mcf_ctoa +low +high mcf_spin +low +high')"
     ],
     "language": "python",
     "metadata": {},
     "outputs": []
    },
    {
     "cell_type": "markdown",
     "metadata": {},
     "source": [
      "fname = './l0125_d200b.catalog' # file name to z0.0.catalog\n",
      "mlow = 4e11  # threshold mass in Msun/h\n",
      "mhigh = 8e11\n",
      "gnewton = 4.302e-6\n",
      "lbox = 125.\n",
      "\n",
      "# define dict pointing to all marks of interest\n",
      "rs_dict = {'halo_id':(0,'f8'), 'halo_mass':(2,'f8'), 'halo_vmax':(3,'f8'), 'halo_rvir':(5,'f8'),\n",
      "           'halo_rs':(6,'f8'), 'halo_x':(8,'f8'), 'halo_y':(9,'f8'), 'halo_z':(10,'f8'),\n",
      "           'halo_spin':(17,'f8'), 'halo_ctoa':(28, 'f8'), 'halo_pid':(33,'f8'),\n",
      "           'halo_cnfw':(11,'f8'), 'halo_rsplash':(12,'f8')}\n",
      "\n",
      "reader = sm.TabularAsciiReader(fname, rs_dict, row_cut_min_dict={'halo_mass':mlow}, row_cut_max_dict={'halo_mass':mhigh},\n",
      "                               row_cut_eq_dict={'halo_pid':-1})\n",
      "hosts_data = reader.read_ascii()\n",
      "print np.median(hosts_data['halo_rvir'])\n",
      "print np.mean(hosts_data['halo_rvir'])"
     ]
    },
    {
     "cell_type": "markdown",
     "metadata": {},
     "source": [
      "fname = './l0125_d10b.catalog' # file name to z0.0.catalog\n",
      "mlow = 4e11  # threshold mass in Msun/h\n",
      "mhigh = 8e11\n",
      "gnewton = 4.302e-6\n",
      "lbox = 125.\n",
      "\n",
      "# define dict pointing to all marks of interest\n",
      "rs_dict = {'halo_id':(0,'i8'), 'halo_mass':(2,'f8'), 'halo_vmax':(3,'f8'), 'halo_rvir':(5,'f8'),\n",
      "           'halo_rs':(6,'f8'), 'halo_x':(8,'f8'), 'halo_y':(9,'f8'), 'halo_z':(10,'f8'),\n",
      "           'halo_spin':(17,'f8'), 'halo_ctoa':(28, 'f8'), 'halo_pid':(33,'i8'),\n",
      "           'halo_cnfw':(11,'f8'), 'halo_rsplash':(12,'f8')}\n",
      "\n",
      "reader = sm.TabularAsciiReader(fname, rs_dict, row_cut_min_dict={'halo_mass':mlow}, row_cut_max_dict={'halo_mass':mhigh},\n",
      "                               row_cut_eq_dict={'halo_pid':-1})\n",
      "hosts_data = reader.read_ascii()\n",
      "print np.median(hosts_data['halo_rvir'])\n",
      "print np.mean(hosts_data['halo_rvir'])"
     ]
    },
    {
     "cell_type": "markdown",
     "metadata": {},
     "source": [
      "ratio_moreetal = [1.966*.5, 2.244*.5, 2.552*.5, 2.658*.5, 2.708*.5]\n",
      "mass_moreetal = [10**15, 10**14, 10**12, 10**10, 10**8]\n",
      "\n",
      "ratio_us = [2.714, 1.913, 1]\n",
      "mass_us = [4*10**11, 9*10**11, 4*10**12]"
     ]
    },
    {
     "cell_type": "markdown",
     "metadata": {},
     "source": [
      "font = {'family' : 'normal',\n",
      "        'weight' : 'normal',\n",
      "        'size'   : 14}\n",
      "\n",
      "\n",
      "matplotlib.rc('font', **font)\n",
      "plt.semilogx(mass_moreetal, ratio_moreetal, 'bs', ms=14, label='More et al. $r_{\\mathrm{splash}}/r_{\\mathrm{200m}}$')\n",
      "plt.semilogx(mass_us, ratio_us, 'r.', ms=24, label='best fit $r_{\\Delta}/r_{\\mathrm{200m}}$')\n",
      "plt.xlabel('$M (M_{\\odot} h^{-1})$')\n",
      "plt.ylabel('$r / r_{200\\mathrm{m}}$')\n",
      "plt.xlim(9*10**9, 2*10**15)\n",
      "\n",
      "plt.tight_layout()\n",
      "plt.savefig('splash_compare.pdf')"
     ]
    },
    {
     "cell_type": "code",
     "collapsed": false,
     "input": [],
     "language": "python",
     "metadata": {},
     "outputs": []
    }
   ],
   "metadata": {}
  }
 ]
}