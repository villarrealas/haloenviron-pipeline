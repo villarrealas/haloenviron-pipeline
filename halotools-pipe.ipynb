{
 "cells": [
  {
   "cell_type": "markdown",
   "metadata": {},
   "source": [
    "Primary goal is to define a function by which we give it a file name and mass threshold and the entirety of the calculation in terms of CFs, MCFs, and various cuts are output as a single data vector. We will start by assuming a value of fname and mthresh and go from there, and see what needs changing."
   ]
  },
  {
   "cell_type": "code",
   "execution_count": 1,
   "metadata": {
    "collapsed": false
   },
   "outputs": [],
   "source": [
    "# required imports for the function here\n",
    "%matplotlib inline\n",
    "\n",
    "import numpy as np\n",
    "import matplotlib.pyplot as plt\n",
    "import scipy.stats as stats\n",
    "import halotools.mock_observables as mo\n",
    "import halotools.sim_manager as sm\n"
   ]
  },
  {
   "cell_type": "code",
   "execution_count": 46,
   "metadata": {
    "collapsed": false
   },
   "outputs": [
    {
     "name": "stdout",
     "output_type": "stream",
     "text": [
      "\n",
      "...Processing ASCII data of file: \n",
      "/data/asv13/projects/haloenviron-pipeline/l0250_d200b.catalog\n",
      " \n",
      "Total number of rows in detected data = 2342337\n",
      "Number of rows in detected header = 15 \n",
      "\n",
      "... working on chunk 0 of 1\n",
      "Total runtime to read in ASCII = 15.39 seconds\n",
      "\n",
      "\u0007\n"
     ]
    }
   ],
   "source": [
    "fname = './l0250_d200b.catalog' # file name to z0.0.catalog\n",
    "mthresh = 7e11  # threshold mass in Msun/h\n",
    "gnewton = 4.302e-6\n",
    "lbox = 250\n",
    "nbins = 50\n",
    "\n",
    "# define dict pointing to all marks of interest\n",
    "rs_dict = {'halo_id':(0,'i8'), 'halo_mass':(2,'f8'), 'halo_vmax':(3,'f8'), 'halo_rvir':(5,'f8'),\n",
    "           'halo_rs':(6,'f8'), 'halo_x':(8,'f8'), 'halo_y':(9,'f8'), 'halo_z':(10,'f8'),\n",
    "           'halo_spin':(17,'f8'), 'halo_ctoa':(28, 'f8'), 'halo_pid':(33,'i8'),\n",
    "           'halo_cnfw':(11,'f8'), 'halo_vratio':(12,'f8')}\n",
    "\n",
    "reader = sm.TabularAsciiReader(fname, rs_dict, row_cut_min_dict={'halo_mass':mthresh},\n",
    "                               row_cut_eq_dict={'halo_pid':-1})\n",
    "hosts_data = reader.read_ascii()\n",
    "\n",
    "# add vratio mark\n",
    "vratio_temp = hosts_data['halo_vmax']/(np.sqrt(gnewton * hosts_data['halo_mass']/hosts_data['halo_rvir']))\n",
    "hosts_data['halo_vratio'] = vratio_temp\n",
    "cnfw_temp = hosts_data['halo_rvir']/hosts_data['halo_rs']\n",
    "hosts_data['halo_cnfw'] = cnfw_temp\n",
    "\n",
    "# now that we have data, we need to mass correct all of our marks\n",
    "mass_sort = np.sort(hosts_data, order='halo_mass')\n",
    "\n",
    "vratio_binned = stats.binned_statistic(np.log10(mass_sort['halo_mass']), \n",
    "                                       np.log10(mass_sort['halo_vratio']),\n",
    "                                       statistic='mean', bins=nbins)\n",
    "vratio_fix_log = np.log10(mass_sort['halo_vratio']) - vratio_binned.statistic[vratio_binned.binnumber-1]\n",
    "vratio_binned = stats.binned_statistic(np.log10(mass_sort['halo_mass']),\n",
    "                                      mass_sort['halo_vratio'], statistic='mean', bins=nbins)\n",
    "vratio_fix = mass_sort['halo_vratio'] / vratio_binned.statistic[vratio_binned.binnumber-1]\n",
    "vratio_fix_alt = mass_sort['halo_vratio']-vratio_binned.statistic[vratio_binned.binnumber-1]\n",
    "\n",
    "cnfw_binned = stats.binned_statistic(np.log10(mass_sort['halo_mass']), \n",
    "                                     np.log10(mass_sort['halo_cnfw']),\n",
    "                                     statistic = 'mean', bins=nbins)\n",
    "cnfw_fix_log = np.log10(mass_sort['halo_cnfw']) - cnfw_binned.statistic[cnfw_binned.binnumber-1]\n",
    "cnfw_binned = stats.binned_statistic(np.log10(mass_sort['halo_mass']), mass_sort['halo_cnfw'], statistic='mean',\n",
    "                                     bins = nbins)\n",
    "cnfw_fix = mass_sort['halo_cnfw'] / cnfw_binned.statistic[cnfw_binned.binnumber-1]\n",
    "cnfw_fix_alt = mass_sort['halo_cnfw'] - cnfw_binned.statistic[cnfw_binned.binnumber-1]\n",
    "\n",
    "shape_binned = stats.binned_statistic(np.log10(mass_sort['halo_mass']), \n",
    "                                      np.log10(mass_sort['halo_ctoa']),\n",
    "                                      statistic='mean', bins=nbins)\n",
    "shape_fix_log = np.log10(mass_sort['halo_ctoa']) - shape_binned.statistic[shape_binned.binnumber-1]\n",
    "shape_binned = stats.binned_statistic(np.log10(mass_sort['halo_mass']),\n",
    "                                     mass_sort['halo_ctoa'], statistic='mean', bins=nbins)\n",
    "shape_fix = mass_sort['halo_ctoa'] / shape_binned.statistic[shape_binned.binnumber-1]\n",
    "shape_fix_alt = mass_sort['halo_ctoa'] - shape_binned.statistic[shape_binned.binnumber-1]\n",
    "\n",
    "spin_binned = stats.binned_statistic(np.log10(mass_sort['halo_mass']), \n",
    "                                     np.log10(mass_sort['halo_spin']),\n",
    "                                     statistic='mean', bins=nbins)\n",
    "spin_fix_log = (mass_sort['halo_spin']) - spin_binned.statistic[spin_binned.binnumber-1]\n",
    "spin_binned = stats.binned_statistic(np.log10(mass_sort['halo_mass']), mass_sort['halo_spin'],\n",
    "                                    statistic='mean', bins=nbins)\n",
    "spin_fix = mass_sort['halo_spin'] / spin_binned.statistic[spin_binned.binnumber-1]\n",
    "spin_fix_alt = mass_sort['halo_spin'] - spin_binned.statistic[spin_binned.binnumber-1]"
   ]
  },
  {
   "cell_type": "code",
   "execution_count": 61,
   "metadata": {
    "collapsed": false
   },
   "outputs": [],
   "source": [
    "# this SHOULD allow us to move everything into the main section without having to overwrite existing blocks. So we can\n",
    "# thus strip out some of the data that is read in just to be written over in favor of just adding in new columns.\n",
    "# Hurray!\n",
    "from numpy.lib.recfunctions import append_fields\n",
    "new_sort = append_fields(mass_sort, ('halo_spin_fix', 'halo_shape_fix'), (spin_fix, shape_fix))"
   ]
  },
  {
   "cell_type": "code",
   "execution_count": 64,
   "metadata": {
    "collapsed": false
   },
   "outputs": [
    {
     "data": {
      "text/plain": [
       "array([ 0.,  0.,  0., ...,  0.,  0.,  0.])"
      ]
     },
     "execution_count": 64,
     "metadata": {},
     "output_type": "execute_result"
    }
   ],
   "source": [
    "np.zeros(len(new_sort))"
   ]
  },
  {
   "cell_type": "code",
   "execution_count": 47,
   "metadata": {
    "collapsed": false
   },
   "outputs": [
    {
     "name": "stdout",
     "output_type": "stream",
     "text": [
      "-2.15254659623e-16\n",
      "0.20513387362\n",
      "-1.14041343816\n"
     ]
    },
    {
     "data": {
      "image/png": "[encoded data removed]",
      "text/plain": [
       "<matplotlib.figure.Figure at 0x7f5437842790>"
      ]
     },
     "metadata": {},
     "output_type": "display_data"
    }
   ],
   "source": [
    "plt.hist(cnfw_fix_log, color='blue',bins=50)\n",
    "print np.mean(cnfw_fix_log)\n",
    "print np.std(cnfw_fix_log)\n",
    "print stats.skew(cnfw_fix_log)"
   ]
  },
  {
   "cell_type": "code",
   "execution_count": 48,
   "metadata": {
    "collapsed": false
   },
   "outputs": [
    {
     "name": "stdout",
     "output_type": "stream",
     "text": [
      "1.0\n",
      "0.425571181476\n",
      "2.14470374389\n"
     ]
    },
    {
     "data": {
      "image/png": "[encoded data removed]",
      "text/plain": [
       "<matplotlib.figure.Figure at 0x7f54375dde90>"
      ]
     },
     "metadata": {},
     "output_type": "display_data"
    }
   ],
   "source": [
    "plt.hist(cnfw_fix, color='blue', bins=50)\n",
    "print np.mean(cnfw_fix)\n",
    "print np.std(cnfw_fix)\n",
    "print stats.skew(cnfw_fix)"
   ]
  },
  {
   "cell_type": "code",
   "execution_count": 49,
   "metadata": {
    "collapsed": false
   },
   "outputs": [
    {
     "name": "stdout",
     "output_type": "stream",
     "text": [
      "-8.26297909616e-15\n",
      "6.01947317842\n",
      "2.27573992188\n"
     ]
    },
    {
     "data": {
      "image/png": "[encoded data removed]",
      "text/plain": [
       "<matplotlib.figure.Figure at 0x7f53e5089750>"
      ]
     },
     "metadata": {},
     "output_type": "display_data"
    }
   ],
   "source": [
    "plt.hist(cnfw_fix_alt, color='blue', bins=50)\n",
    "print np.mean(cnfw_fix_alt)\n",
    "print np.std(cnfw_fix_alt)\n",
    "print stats.skew(cnfw_fix_alt)"
   ]
  },
  {
   "cell_type": "code",
   "execution_count": 50,
   "metadata": {
    "collapsed": false,
    "scrolled": true
   },
   "outputs": [
    {
     "name": "stdout",
     "output_type": "stream",
     "text": [
      "240.88221957\n",
      "1.1811108305\n",
      "1.60993944635\n"
     ]
    },
    {
     "data": {
      "image/png": "[encoded data removed]",
      "text/plain": [
       "<matplotlib.figure.Figure at 0x7f54372a2590>"
      ]
     },
     "metadata": {},
     "output_type": "display_data"
    }
   ],
   "source": [
    "plt.hist(cnfw_fix**2, color='blue', bins=50)\n",
    "print np.max(cnfw_fix**2)\n",
    "print np.mean(cnfw_fix**2)\n",
    "print np.std(cnfw_fix**2)"
   ]
  },
  {
   "cell_type": "code",
   "execution_count": 51,
   "metadata": {
    "collapsed": false
   },
   "outputs": [
    {
     "name": "stdout",
     "output_type": "stream",
     "text": [
      "240.88221957\n",
      "0.0420799061062\n",
      "0.0964209779356\n"
     ]
    },
    {
     "data": {
      "image/png": "[encoded data removed]",
      "text/plain": [
       "<matplotlib.figure.Figure at 0x7f543784cbd0>"
      ]
     },
     "metadata": {},
     "output_type": "display_data"
    }
   ],
   "source": [
    "plt.hist(cnfw_fix_log**2, color='blue', bins=50)\n",
    "print np.max(cnfw_fix**2)\n",
    "print np.mean(cnfw_fix_log**2)\n",
    "print np.std(cnfw_fix_log**2)"
   ]
  },
  {
   "cell_type": "code",
   "execution_count": null,
   "metadata": {
    "collapsed": true
   },
   "outputs": [],
   "source": []
  },
  {
   "cell_type": "code",
   "execution_count": null,
   "metadata": {
    "collapsed": true
   },
   "outputs": [],
   "source": []
  },
  {
   "cell_type": "code",
   "execution_count": null,
   "metadata": {
    "collapsed": true
   },
   "outputs": [],
   "source": []
  }
 ],
 "metadata": {
  "kernelspec": {
   "display_name": "Python 2",
   "language": "python",
   "name": "python2"
  },
  "language_info": {
   "codemirror_mode": {
    "name": "ipython",
    "version": 2
   },
   "file_extension": ".py",
   "mimetype": "text/x-python",
   "name": "python",
   "nbconvert_exporter": "python",
   "pygments_lexer": "ipython2",
   "version": "2.7.11"
  }
 },
 "nbformat": 4,
 "nbformat_minor": 0
}
