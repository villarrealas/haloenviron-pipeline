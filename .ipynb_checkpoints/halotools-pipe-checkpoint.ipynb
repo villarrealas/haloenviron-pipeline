{
 "metadata": {
  "name": "",
  "signature": "sha256:72b92528c17ea3e3736697e6b69eb5af93dc6e09c5eeb7c864b920ce48431406"
 },
 "nbformat": 3,
 "nbformat_minor": 0,
 "worksheets": [
  {
   "cells": [
    {
     "cell_type": "markdown",
     "metadata": {},
     "source": [
      "Primary goal is to define a function by which we give it a file name and mass threshold and the entirety of the calculation in terms of CFs, MCFs, and various cuts are output as a single data vector. We will start by assuming a value of fname and mthresh and go from there, and see what needs changing."
     ]
    },
    {
     "cell_type": "code",
     "collapsed": false,
     "input": [
      "# required imports for the function here\n",
      "import numpy as np\n",
      "import matplotlib.pyplot as plt\n",
      "import scipy.stats as stats\n",
      "import halotools.mock_observables as mo\n",
      "import halotools.sim_manager as sm"
     ],
     "language": "python",
     "metadata": {},
     "outputs": [],
     "prompt_number": 52
    },
    {
     "cell_type": "code",
     "collapsed": false,
     "input": [
      "fname = './z0.0.catalog' # file name to z0.0.catalog\n",
      "mthresh = 7e11  # threshold mass in Msun/h\n",
      "gnewton = 4.302e-6\n",
      "\n",
      "# define dict pointing to all marks of interest\n",
      "rs_dict = {'halo_id':(0,'i8'), 'halo_mass':(2,'f8'), 'halo_vmax':(3,'f8'), 'halo_rvir':(5,'f8'),\n",
      "           'halo_rs':(6,'f8'), 'halo_x':(8,'f8'), 'halo_y':(9,'f8'), 'halo_z':(10,'f8'),\n",
      "           'halo_spin':(17,'f8'), 'halo_ctoa':(28, 'f8'), 'halo_pid':(33,'i8'),\n",
      "           'halo_cnfw':(11,'f8'), 'halo_vratio':(12,'f8')}\n",
      "\n",
      "reader = sm.TabularAsciiReader(fname, rs_dict, row_cut_min_dict={'halo_mass':7e11},\n",
      "                               row_cut_eq_dict={'halo_pid':-1})\n",
      "hosts_data = reader.read_ascii()\n",
      "\n",
      "# add vratio mark\n",
      "vratio_temp = hosts_data['halo_vmax']/(np.sqrt(gnewton * hosts_data['halo_mass']/hosts_data['halo_rvir']))\n",
      "hosts_data['halo_vratio'] = vratio_temp\n",
      "cnfw_temp = hosts_data['halo_rvir']/hosts_data['halo_rs']\n",
      "hosts_data['halo_cnfw'] = cnfw_temp\n",
      "\n",
      "# now that we have data, we need to mass correct all of our marks\n",
      "mass_sort = np.sort(hosts_data, order='halo_mass')\n",
      "\n",
      "vratio_binned = stats.binned_statistic(np.log10(mass_sort['halo_mass']), \n",
      "                                       np.log10(mass_sort['halo_vratio']),\n",
      "                                       statistic='mean', bins=10)\n",
      "vratio_fix = np.log10(mass_sort['halo_vratio'])/vratio_binned.statistic[vratio_binned.binnumber-1]\n",
      "mass_sort['halo_vratio'] = vratio_fix\n",
      "\n",
      "cnfw_binned = stats.binned_statistic(np.log10(mass_sort['halo_mass']), \n",
      "                                     np.log10(mass_sort['halo_cnfw']),\n",
      "                                     statistic = 'mean', bins=10)\n",
      "cnfw_fix = np.log10(mass_sort['halo_cnfw'])/cnfw_binned.statistic[cnfw_binned.binnumber-1]\n",
      "mass_sort['halo_cnfw'] = cnfw_fix\n",
      "\n",
      "shape_binned = stats.binned_statistic(np.log10(mass_sort['halo_mass']), \n",
      "                                      np.log10(mass_sort['halo_ctoa']),\n",
      "                                      statistic='mean', bins=10)\n",
      "shape_fix = np.log10(mass_sort['halo_ctoa'])/shape_binned.statistic[shape_binned.binnumber-1]\n",
      "mass_sort['halo_ctoa'] = shape_fix\n",
      "\n",
      "spin_binned = stats.binned_statistic(np.log10(mass_sort['halo_mass']), \n",
      "                                     (mass_sort['halo_spin']),\n",
      "                                     statistic='mean', bins=10)\n",
      "spin_fix = (mass_sort['halo_spin'])/spin_binned.statistic[spin_binned.binnumber-1]\n",
      "mass_sort['halo_spin'] = spin_fix\n",
      "\n",
      "# now all our marks have been fixed. First let's run through the marked correlation functions\n",
      "# then we can take various correlation function comparisons\n",
      "\n",
      "pos = np.vstack((mass_sort['halo_x'], mass_sort['halo_y'], mass_sort['halo_z'])).T\n",
      "\n",
      "minlog = np.log10(3.0)\n",
      "maxlog = np.log10(30.0)\n",
      "nstep = 30\n",
      "steplog = (maxlog - minlog) / (nstep - 1.)\n",
      "logbins = np.arange(minlog, maxlog+steplog, steplog)\n",
      "binmids = np.zeros(30)\n",
      "for i in range(0,nstep):\n",
      "    binmids[i] = (logbins[i]+logbins[i+1])/2.\n",
      "\n",
      "mcf_vratio = mo.marked_tpcf(pos, 10**logbins, marks1=mass_sort['halo_vratio'], period=250.0,\n",
      "                            normalize_by='number_counts', wfunc=1)\n",
      "mcfn_vratio = (mcf_vratio - np.mean(mass_sort['halo_vratio'])**2)/(np.var(mass_sort['halo_vratio']))\n",
      "\n",
      "mcf_cnfw = mo.marked_tpcf(pos, 10**logbins, marks1=mass_sort['halo_cnfw'], period=250.0,\n",
      "                          normalize_by='number_counts', wfunc=1)\n",
      "mcfn_cnfw = (mcf_cnfw - np.mean(mass_sort['halo_cnfw'])**2)/(np.var(mass_sort['halo_cnfw']))\n",
      "\n",
      "mcf_ctoa = mo.marked_tpcf(pos, 10**logbins, marks1=mass_sort['halo_ctoa'], period=250.0,\n",
      "                          normalize_by='number_counts', wfunc=1)\n",
      "mcfn_ctoa = (mcf_ctoa - np.mean(mass_sort['halo_ctoa'])**2)/(np.var(mass_sort['halo_ctoa']))\n",
      "\n",
      "mcf_spin = mo.marked_tpcf(pos, 10**logbins, marks1=mass_sort['halo_spin'], period=250.0,\n",
      "                          normalize_by='number_counts', wfunc=1)\n",
      "mcfn_spin = (mcf_spin - np.mean(mass_sort['halo_spin'])**2)/(np.var(mass_sort['halo_spin']))\n",
      "\n",
      "# how we'll need to shuffle the marks N times, run the calculation N times,\n",
      "# and determine the min and max range of the mark calculation. So:\n",
      "nrand = 50\n",
      "mcf_vratio_rand = np.zeros((nstep, nrand))\n",
      "mcfn_vratio_rand = np.zeros((nstep, nrand))\n",
      "mcf_cnfw_rand = np.zeros((nstep, nrand))\n",
      "mcfn_cnfw_rand = np.zeros((nstep, nrand))\n",
      "mcf_ctoa_rand = np.zeros((nstep, nrand))\n",
      "mcfn_ctoa_rand = np.zeros((nstep, nrand))\n",
      "mcf_spin_rand = np.zeros((nstep, nrand))\n",
      "mcfn_spin_rand = np.zeros((nstep, nrand))\n",
      "for i in range(0, nrand):\n",
      "    randm_vratio = np.random.permutation(mass_sort['halo_vratio'])\n",
      "    randm_cnfw = np.random.permutation(mass_sort['halo_cnfw'])\n",
      "    randm_ctoa = np.random.permutation(mass_sort['halo_ctoa'])\n",
      "    randm_spin = np.random.permutation(mass_sort['halo_spin'])\n",
      "    mcf_vratio_rand[:,i] = mo.marked_tpcf(pos, 10**logbins, marks1=randm_vratio, period=250.0,\n",
      "                                      normalize_by='number_counts', wfunc=1)\n",
      "    mcfn_vratio_rand[:,i] = (mcf_vratio_rand[:,i] - np.mean(randm_vratio)**2)/(np.var(randm_vratio))\n",
      "    mcf_cnfw_rand[:,i] = mo.marked_tpcf(pos, 10**logbins, marks1=randm_cnfw, period=250.0,\n",
      "                                        normalize_by='number_counts', wfunc=1)\n",
      "    mcfn_cnfw_rand[:,i] = (mcf_cnfw_rand[:,i] - np.mean(randm_cnfw)**2)/(np.var(randm_cnfw))\n",
      "    mcf_ctoa_rand[:,i] = mo.marked_tpcf(pos, 10**logbins, marks1=randm_ctoa, period=250.0,\n",
      "                                        normalize_by='number_counts', wfunc=1)\n",
      "    mcfn_ctoa_rand[:,i] = (mcf_ctoa_rand[:,i] - np.mean(randm_ctoa)**2)/(np.var(randm_ctoa))\n",
      "    mcf_spin_rand[:,i] = mo.marked_tpcf(pos, 10**logbins, marks1=randm_spin, period=250.0,\n",
      "                                        normalize_by='number_counts', wfunc=1)\n",
      "    mcfn_spin_rand[:,i] = (mcf_spin_rand[:,i] - np.mean(randm_spin)**2)/(np.var(randm_spin))\n",
      "\n",
      "mcfn_vratio_min = np.zeros(nstep)\n",
      "mcfn_vratio_max = np.zeros(nstep)\n",
      "mcfn_cnfw_min = np.zeros(nstep)\n",
      "mcfn_cnfw_max = np.zeros(nstep)\n",
      "mcfn_ctoa_min = np.zeros(nstep)\n",
      "mcfn_ctoa_max = np.zeros(nstep)\n",
      "mcfn_spin_min = np.zeros(nstep)\n",
      "mcfn_spin_max = np.zeros(nstep)\n",
      "for i in range(0, nstep):\n",
      "    mcfn_vratio_min[i] = np.percentile(mcfn_vratio_rand[i,:],2, interpolation='nearest')\n",
      "    mcfn_vratio_max[i] = np.percentile(mcfn_vratio_rand[i,:],98,interpolation='nearest')\n",
      "    mcfn_cnfw_min[i] = np.percentile(mcfn_cnfw_rand[i,:],2, interpolation='nearest')\n",
      "    mcfn_cnfw_max[i] = np.percentile(mcfn_cnfw_rand[i,:],98, interpolation='nearest')\n",
      "    mcfn_ctoa_min[i] = np.percentile(mcfn_ctoa_rand[i,:],2, interpolation='nearest')\n",
      "    mcfn_ctoa_max[i] = np.percentile(mcfn_ctoa_rand[i,:],98, interpolation='nearest')\n",
      "    mcfn_spin_min[i] = np.percentile(mcfn_spin_rand[i,:],2, interpolation='nearest')\n",
      "    mcfn_spin_max[i] = np.percentile(mcfn_spin_rand[i,:],98, interpolation='nearest')"
     ],
     "language": "python",
     "metadata": {},
     "outputs": [
      {
       "output_type": "stream",
       "stream": "stdout",
       "text": [
        "\n",
        "...Processing ASCII data of file: \n",
        "/root/Documents/PROJECTS/HALOENVIRON/haloenviron-pipeline/z0.0.catalog\n",
        " \n",
        "Total number of rows in detected data = 2342337"
       ]
      },
      {
       "output_type": "stream",
       "stream": "stdout",
       "text": [
        "\n",
        "Number of rows in detected header = 15 \n",
        "\n",
        "... working on chunk 0 of 1\n",
        "Total runtime to read in ASCII = 16.72 seconds\n"
       ]
      },
      {
       "output_type": "stream",
       "stream": "stdout",
       "text": [
        "\n",
        "\u0007\n"
       ]
      }
     ],
     "prompt_number": 53
    },
    {
     "cell_type": "code",
     "collapsed": false,
     "input": [
      "plt.semilogx(10**binmids, mcfn_vratio, 'r-')\n",
      "plt.fill_between(10**binmids, mcfn_vratio_min, mcfn_vratio_max, facecolor='red', alpha=0.3)"
     ],
     "language": "python",
     "metadata": {},
     "outputs": [
      {
       "metadata": {},
       "output_type": "pyout",
       "prompt_number": 54,
       "text": [
        "<matplotlib.collections.PolyCollection at 0x7f481ecea110>"
       ]
      },
      {
       "metadata": {},
       "output_type": "display_data",
       "png": "[encoded data removed]",
       "text": [
        "<matplotlib.figure.Figure at 0x7f481eceac90>"
       ]
      }
     ],
     "prompt_number": 54
    },
    {
     "cell_type": "code",
     "collapsed": false,
     "input": [
      "plt.semilogx(10**binmids, mcfn_cnfw, 'r-')\n",
      "plt.fill_between(10**binmids, mcfn_cnfw_min, mcfn_cnfw_max, facecolor='red', alpha=0.3)\n"
     ],
     "language": "python",
     "metadata": {},
     "outputs": [
      {
       "metadata": {},
       "output_type": "pyout",
       "prompt_number": 55,
       "text": [
        "<matplotlib.collections.PolyCollection at 0x7f481e00c1d0>"
       ]
      },
      {
       "metadata": {},
       "output_type": "display_data",
       "png": "[encoded data removed]",
       "text": [
        "<matplotlib.figure.Figure at 0x7f481e00c250>"
       ]
      }
     ],
     "prompt_number": 55
    },
    {
     "cell_type": "code",
     "collapsed": false,
     "input": [
      "plt.semilogx(10**binmids, mcfn_ctoa, 'r-')\n",
      "plt.fill_between(10**binmids, mcfn_ctoa_min, mcfn_ctoa_max, facecolor='red', alpha=0.3)"
     ],
     "language": "python",
     "metadata": {},
     "outputs": [
      {
       "metadata": {},
       "output_type": "pyout",
       "prompt_number": 56,
       "text": [
        "<matplotlib.collections.PolyCollection at 0x7f47c97f0c90>"
       ]
      },
      {
       "metadata": {},
       "output_type": "display_data",
       "png": "[encoded data removed]",
       "text": [
        "<matplotlib.figure.Figure at 0x7f481de9e210>"
       ]
      }
     ],
     "prompt_number": 56
    },
    {
     "cell_type": "code",
     "collapsed": false,
     "input": [
      "plt.semilogx(10**binmids, mcfn_spin, 'r-')\n",
      "plt.fill_between(10**binmids, mcfn_spin_min, mcfn_spin_max, facecolor='red', alpha=0.3)"
     ],
     "language": "python",
     "metadata": {},
     "outputs": [
      {
       "metadata": {},
       "output_type": "pyout",
       "prompt_number": 57,
       "text": [
        "<matplotlib.collections.PolyCollection at 0x7f481dd45cd0>"
       ]
      },
      {
       "metadata": {},
       "output_type": "display_data",
       "png": "[encoded data removed]",
       "text": [
        "<matplotlib.figure.Figure at 0x7f481dd45d90>"
       ]
      }
     ],
     "prompt_number": 57
    },
    {
     "cell_type": "code",
     "collapsed": false,
     "input": [
      "fname = './z0.0.catalog' # file name to z0.0.catalog\n",
      "mthresh = 7e11  # threshold mass in Msun/h\n",
      "gnewton = 4.302e-6\n",
      "\n",
      "# define dict pointing to all marks of interest\n",
      "rs_dict = {'halo_id':(0,'i8'), 'halo_mass':(2,'f8'), 'halo_vmax':(3,'f8'), 'halo_rvir':(5,'f8'),\n",
      "           'halo_rs':(6,'f8'), 'halo_x':(8,'f8'), 'halo_y':(9,'f8'), 'halo_z':(10,'f8'),\n",
      "           'halo_spin':(17,'f8'), 'halo_ctoa':(28, 'f8'), 'halo_pid':(33,'i8'),\n",
      "           'halo_cnfw':(11,'f8'), 'halo_vratio':(12,'f8')}\n",
      "\n",
      "reader = sm.TabularAsciiReader(fname, rs_dict, row_cut_min_dict={'halo_mass':7e11},\n",
      "                               row_cut_eq_dict={'halo_pid':-1})\n",
      "hosts_data = reader.read_ascii()\n",
      "\n",
      "# add vratio mark\n",
      "vratio_temp = hosts_data['halo_vmax']/(np.sqrt(gnewton * hosts_data['halo_mass']/hosts_data['halo_rvir']))\n",
      "hosts_data['halo_vratio'] = vratio_temp\n",
      "cnfw_temp = hosts_data['halo_rvir']/hosts_data['halo_rs']\n",
      "hosts_data['halo_cnfw'] = cnfw_temp\n",
      "\n",
      "# now that we have data, we need to mass correct all of our marks\n",
      "mass_sort = np.sort(hosts_data, order='halo_mass')\n"
     ],
     "language": "python",
     "metadata": {},
     "outputs": [
      {
       "output_type": "stream",
       "stream": "stdout",
       "text": [
        "\n",
        "...Processing ASCII data of file: \n",
        "/root/Documents/PROJECTS/HALOENVIRON/haloenviron-pipeline/z0.0.catalog\n",
        " \n",
        "Total number of rows in detected data = 2342337"
       ]
      },
      {
       "output_type": "stream",
       "stream": "stdout",
       "text": [
        "\n",
        "Number of rows in detected header = 15 \n",
        "\n",
        "... working on chunk 0 of 1\n",
        "Total runtime to read in ASCII = 16.53 seconds\n"
       ]
      },
      {
       "output_type": "stream",
       "stream": "stdout",
       "text": [
        "\n",
        "\u0007\n"
       ]
      }
     ],
     "prompt_number": 58
    },
    {
     "cell_type": "code",
     "collapsed": false,
     "input": [
      "vratio_binned = stats.binned_statistic(np.log10(mass_sort['halo_mass']), \n",
      "                                       (mass_sort['halo_vratio']),\n",
      "                                       statistic='mean', bins=10)"
     ],
     "language": "python",
     "metadata": {},
     "outputs": [],
     "prompt_number": 59
    },
    {
     "cell_type": "code",
     "collapsed": false,
     "input": [
      "number = 8\n",
      "\n",
      "n, bins = np.histogram(mass_sort['halo_vratio'][np.where(vratio_binned.binnumber==number)])\n",
      "binwidth = bins[1]-bins[0]\n",
      "\n",
      "n_log, bins_log = np.histogram(np.log10(mass_sort['halo_vratio'][np.where(vratio_binned.binnumber==number)]))\n",
      "binwidth_log = bins_log[1] - bins_log[0]\n",
      "\n",
      "skew = stats.skew(mass_sort['halo_vratio'][np.where(vratio_binned.binnumber==number)])\n",
      "skew_log = stats.skew(np.log10(mass_sort['halo_vratio'][np.where(vratio_binned.binnumber==number)]))\n",
      "\n",
      "print skew, skew_log"
     ],
     "language": "python",
     "metadata": {},
     "outputs": [
      {
       "output_type": "stream",
       "stream": "stdout",
       "text": [
        "-0.146681127607 -0.33396927476\n"
       ]
      }
     ],
     "prompt_number": 60
    },
    {
     "cell_type": "code",
     "collapsed": false,
     "input": [
      "plt.bar(bins_log[:-1], n_log, width=binwidth_log, color='r')"
     ],
     "language": "python",
     "metadata": {},
     "outputs": [
      {
       "metadata": {},
       "output_type": "pyout",
       "prompt_number": 61,
       "text": [
        "<Container object of 10 artists>"
       ]
      },
      {
       "metadata": {},
       "output_type": "display_data",
       "png": "[encoded data removed]",
       "text": [
        "<matplotlib.figure.Figure at 0x7f481dea0210>"
       ]
      }
     ],
     "prompt_number": 61
    },
    {
     "cell_type": "code",
     "collapsed": false,
     "input": [
      "plt.bar(bins[:-1], n, width=binwidth)"
     ],
     "language": "python",
     "metadata": {},
     "outputs": [
      {
       "metadata": {},
       "output_type": "pyout",
       "prompt_number": 62,
       "text": [
        "<Container object of 10 artists>"
       ]
      },
      {
       "metadata": {},
       "output_type": "display_data",
       "png": "[encoded data removed]",
       "text": [
        "<matplotlib.figure.Figure at 0x7f481dae0a50>"
       ]
      }
     ],
     "prompt_number": 62
    },
    {
     "cell_type": "markdown",
     "metadata": {},
     "source": [
      "## Observation on C_vratio ##\n",
      "It appears that taking the log of vratio introduces a large amount of skew to the distribution.\n",
      "This implies it may be best NOT to use the log of c_V in our calculations.\n",
      "\n",
      "We'll now repeat this with the other marks."
     ]
    },
    {
     "cell_type": "code",
     "collapsed": false,
     "input": [
      "number = 5\n",
      "\n",
      "n, bins = np.histogram(mass_sort['halo_cnfw'][np.where(vratio_binned.binnumber==number)])\n",
      "binwidth = bins[1]-bins[0]\n",
      "\n",
      "n_log, bins_log = np.histogram(np.log10(mass_sort['halo_cnfw'][np.where(vratio_binned.binnumber==number)]))\n",
      "binwidth_log = bins_log[1] - bins_log[0]\n",
      "\n",
      "skew = stats.skew(mass_sort['halo_cnfw'][np.where(vratio_binned.binnumber==number)])\n",
      "skew_log = stats.skew(np.log10(mass_sort['halo_cnfw'][np.where(vratio_binned.binnumber==number)]))\n",
      "\n",
      "print skew, skew_log"
     ],
     "language": "python",
     "metadata": {},
     "outputs": [
      {
       "output_type": "stream",
       "stream": "stdout",
       "text": [
        "0.165945964632 -1.25529015463\n"
       ]
      }
     ],
     "prompt_number": 63
    },
    {
     "cell_type": "code",
     "collapsed": false,
     "input": [
      "plt.bar(bins_log[:-1], n_log, width=binwidth_log, color='r')"
     ],
     "language": "python",
     "metadata": {},
     "outputs": [
      {
       "metadata": {},
       "output_type": "pyout",
       "prompt_number": 64,
       "text": [
        "<Container object of 10 artists>"
       ]
      },
      {
       "metadata": {},
       "output_type": "display_data",
       "png": "[encoded data removed]",
       "text": [
        "<matplotlib.figure.Figure at 0x7f481d9d27d0>"
       ]
      }
     ],
     "prompt_number": 64
    },
    {
     "cell_type": "code",
     "collapsed": false,
     "input": [
      "plt.bar(bins[:-1], n, width=binwidth)"
     ],
     "language": "python",
     "metadata": {},
     "outputs": [
      {
       "metadata": {},
       "output_type": "pyout",
       "prompt_number": 65,
       "text": [
        "<Container object of 10 artists>"
       ]
      },
      {
       "metadata": {},
       "output_type": "display_data",
       "png": "[encoded data removed]",
       "text": [
        "<matplotlib.figure.Figure at 0x7f47c97e48d0>"
       ]
      }
     ],
     "prompt_number": 65
    },
    {
     "cell_type": "markdown",
     "metadata": {},
     "source": [
      "## Observations on C_NFW ##\n",
      "Log C_NFW seems practically necessary for handling the low mass end. On the high mass end, it does seem to introduce more of a skew."
     ]
    },
    {
     "cell_type": "code",
     "collapsed": false,
     "input": [
      "number = 5\n",
      "\n",
      "n, bins = np.histogram(mass_sort['halo_ctoa'][np.where(vratio_binned.binnumber==number)])\n",
      "binwidth = bins[1]-bins[0]\n",
      "\n",
      "n_log, bins_log = np.histogram(np.log10(mass_sort['halo_ctoa'][np.where(vratio_binned.binnumber==number)]))\n",
      "binwidth_log = bins_log[1] - bins_log[0]\n",
      "\n",
      "skew = stats.skew(mass_sort['halo_ctoa'][np.where(vratio_binned.binnumber==number)])\n",
      "skew_log = stats.skew(np.log10(mass_sort['halo_ctoa'][np.where(vratio_binned.binnumber==number)]))\n",
      "\n",
      "print \n",
      "print skew, skew_log"
     ],
     "language": "python",
     "metadata": {},
     "outputs": [
      {
       "output_type": "stream",
       "stream": "stdout",
       "text": [
        "\n",
        "-0.188415452025 -0.455879446434\n"
       ]
      }
     ],
     "prompt_number": 66
    },
    {
     "cell_type": "code",
     "collapsed": false,
     "input": [
      "plt.bar(bins_log[:-1], n_log, width=binwidth_log, color='r')"
     ],
     "language": "python",
     "metadata": {},
     "outputs": [
      {
       "metadata": {},
       "output_type": "pyout",
       "prompt_number": 67,
       "text": [
        "<Container object of 10 artists>"
       ]
      },
      {
       "metadata": {},
       "output_type": "display_data",
       "png": "[encoded data removed]",
       "text": [
        "<matplotlib.figure.Figure at 0x7f481d8fd850>"
       ]
      }
     ],
     "prompt_number": 67
    },
    {
     "cell_type": "code",
     "collapsed": false,
     "input": [
      "plt.bar(bins[:-1], n, width=binwidth)"
     ],
     "language": "python",
     "metadata": {},
     "outputs": [
      {
       "metadata": {},
       "output_type": "pyout",
       "prompt_number": 68,
       "text": [
        "<Container object of 10 artists>"
       ]
      },
      {
       "metadata": {},
       "output_type": "display_data",
       "png": "[encoded data removed]",
       "text": [
        "<matplotlib.figure.Figure at 0x7f47c9830190>"
       ]
      }
     ],
     "prompt_number": 68
    },
    {
     "cell_type": "markdown",
     "metadata": {},
     "source": [
      "## observation on ctoa ##\n",
      "Log seems to introduce more skew across the board, except for the very high mass end."
     ]
    },
    {
     "cell_type": "code",
     "collapsed": false,
     "input": [
      "number = 8\n",
      "\n",
      "n, bins = np.histogram(mass_sort['halo_spin'][np.where(vratio_binned.binnumber==number)])\n",
      "binwidth = bins[1]-bins[0]\n",
      "\n",
      "n_log, bins_log = np.histogram(np.log10(mass_sort['halo_spin'][np.where(vratio_binned.binnumber==number)]))\n",
      "binwidth_log = bins_log[1] - bins_log[0]\n",
      "\n",
      "skew = stats.skew(mass_sort['halo_spin'][np.where(vratio_binned.binnumber==number)])\n",
      "skew_log = stats.skew(np.log10(mass_sort['halo_spin'][np.where(vratio_binned.binnumber==number)]))\n",
      "\n",
      "print \n",
      "print skew, skew_log"
     ],
     "language": "python",
     "metadata": {},
     "outputs": [
      {
       "output_type": "stream",
       "stream": "stdout",
       "text": [
        "\n",
        "1.55704270619 -0.114431764763\n"
       ]
      }
     ],
     "prompt_number": 69
    },
    {
     "cell_type": "code",
     "collapsed": false,
     "input": [
      "plt.bar(bins_log[:-1], n_log, width=binwidth_log, color='r')"
     ],
     "language": "python",
     "metadata": {},
     "outputs": [
      {
       "metadata": {},
       "output_type": "pyout",
       "prompt_number": 70,
       "text": [
        "<Container object of 10 artists>"
       ]
      },
      {
       "metadata": {},
       "output_type": "display_data",
       "png": "[encoded data removed]",
       "text": [
        "<matplotlib.figure.Figure at 0x7f481de6ec90>"
       ]
      }
     ],
     "prompt_number": 70
    },
    {
     "cell_type": "code",
     "collapsed": false,
     "input": [
      "plt.bar(bins[:-1], n, width=binwidth)"
     ],
     "language": "python",
     "metadata": {},
     "outputs": [
      {
       "metadata": {},
       "output_type": "pyout",
       "prompt_number": 71,
       "text": [
        "<Container object of 10 artists>"
       ]
      },
      {
       "metadata": {},
       "output_type": "display_data",
       "png": "[encoded data removed]",
       "text": [
        "<matplotlib.figure.Figure at 0x7f481d69af10>"
       ]
      }
     ],
     "prompt_number": 71
    },
    {
     "cell_type": "code",
     "collapsed": false,
     "input": [
      "spin_sort = np.sort(hosts_data, order='halo_spin')\n",
      "print len(spin_sort)"
     ],
     "language": "python",
     "metadata": {},
     "outputs": [
      {
       "output_type": "stream",
       "stream": "stdout",
       "text": [
        "76261\n"
       ]
      }
     ],
     "prompt_number": 72
    },
    {
     "cell_type": "code",
     "collapsed": false,
     "input": [
      "lowlim=int(floor(.5*len(spin_sort)))\n",
      "highlim=int(floor(.5*len(spin_sort)))\n",
      "low_spin_sort = spin_sort[0:lowlim]\n",
      "high_spin_sort = spin_sort[highlim:-1]\n",
      "lowpos = np.vstack((low_spin_sort['halo_x'], low_spin_sort['halo_y'], low_spin_sort['halo_z'])).T\n",
      "highpos = np.vstack((high_spin_sort['halo_x'], high_spin_sort['halo_y'], high_spin_sort['halo_z'])).T\n",
      "x_rand = 250. * np.random.random(len(lowpos)*3)\n",
      "y_rand = 250. * np.random.random(len(lowpos)*3)\n",
      "z_rand = 250. * np.random.random(len(lowpos)*3)\n",
      "randpos = np.vstack((x_rand,y_rand,z_rand)).T\n",
      "Nsub = np.array([2,2,2])\n",
      "xi_low, cov_low = mo.tpcf_jackknife(lowpos, randpos, rbins=10**logbins, Nsub=Nsub, period=250.0)\n",
      "xi_high, cov_high = mo.tpcf_jackknife(highpos, randpos, rbins=10**logbins, Nsub=Nsub, period=250.0)\n",
      "error_low = (1./np.diag(cov_low))\n",
      "error_high = (1./np.diag(cov_high))\n",
      "yerr_low_low = np.maximum(1e-2, xi_low - error_low)\n",
      "yerr_high_low = xi_low + error_low\n",
      "yerr_low_high = np.maximum(1e-2, xi_high - error_high)\n",
      "yerr_high_high = xi_high + error_high\n",
      "\n",
      "ax = plt.subplot(111)\n",
      "plt.errorbar(10**binmids, xi_low, yerr=[yerr_low_low, yerr_high_low], fmt='b.')\n",
      "plt.errorbar(10**binmids, xi_high, yerr=[yerr_low_high, yerr_high_high], fmt='r.')\n",
      "ax.set_xscale('log')\n",
      "ax.set_yscale('log')"
     ],
     "language": "python",
     "metadata": {},
     "outputs": [
      {
       "metadata": {},
       "output_type": "display_data",
       "png": "[encoded data removed]",
       "text": [
        "<matplotlib.figure.Figure at 0x7f481c0ef8d0>"
       ]
      }
     ],
     "prompt_number": 100
    },
    {
     "cell_type": "code",
     "collapsed": false,
     "input": [
      "lowlim=int(floor(.2*len(spin_sort)))\n",
      "highlim=int(floor(.8*len(spin_sort)))\n",
      "low_spin_sort = spin_sort[0:lowlim]\n",
      "high_spin_sort = spin_sort[highlim:-1]\n",
      "lowpos = np.vstack((low_spin_sort['halo_x'], low_spin_sort['halo_y'], low_spin_sort['halo_z'])).T\n",
      "highpos = np.vstack((high_spin_sort['halo_x'], high_spin_sort['halo_y'], high_spin_sort['halo_z'])).T\n",
      "x_rand = 250. * np.random.random(len(lowpos)*3)\n",
      "y_rand = 250. * np.random.random(len(lowpos)*3)\n",
      "z_rand = 250. * np.random.random(len(lowpos)*3)\n",
      "randpos = np.vstack((x_rand,y_rand,z_rand)).T\n",
      "Nsub = np.array([2,2,2])\n",
      "xi_low, cov_low = mo.tpcf_jackknife(lowpos, randpos, rbins=10**logbins, Nsub=Nsub, period=250.0)\n",
      "xi_high, cov_high = mo.tpcf_jackknife(highpos, randpos, rbins=10**logbins, Nsub=Nsub, period=250.0)\n",
      "error_low = (1./np.diag(cov_low))\n",
      "error_high = (1./np.diag(cov_high))\n",
      "yerr_low_low = np.maximum(1e-2, xi_low - error_low)\n",
      "yerr_high_low = xi_low + error_low\n",
      "yerr_low_high = np.maximum(1e-2, xi_high - error_high)\n",
      "yerr_high_high = xi_high + error_high\n",
      "\n",
      "ax = plt.subplot(111)\n",
      "plt.errorbar(10**binmids, xi_low, yerr=[yerr_low_low, yerr_high_low], fmt='b.')\n",
      "plt.errorbar(10**binmids, xi_high, yerr=[yerr_low_high, yerr_high_high], fmt='r.')\n",
      "ax.set_xscale('log')\n",
      "ax.set_yscale('log')"
     ],
     "language": "python",
     "metadata": {},
     "outputs": [
      {
       "metadata": {},
       "output_type": "display_data",
       "png": "[encoded data removed]",
       "text": [
        "<matplotlib.figure.Figure at 0x7f481bdd4dd0>"
       ]
      }
     ],
     "prompt_number": 101
    },
    {
     "cell_type": "code",
     "collapsed": false,
     "input": [
      "lowlim=int(floor(.1*len(spin_sort)))\n",
      "highlim=int(floor(.9*len(spin_sort)))\n",
      "low_spin_sort = spin_sort[0:lowlim]\n",
      "high_spin_sort = spin_sort[highlim:-1]\n",
      "lowpos = np.vstack((low_spin_sort['halo_x'], low_spin_sort['halo_y'], low_spin_sort['halo_z'])).T\n",
      "highpos = np.vstack((high_spin_sort['halo_x'], high_spin_sort['halo_y'], high_spin_sort['halo_z'])).T\n",
      "x_rand = 250. * np.random.random(len(lowpos)*3)\n",
      "y_rand = 250. * np.random.random(len(lowpos)*3)\n",
      "z_rand = 250. * np.random.random(len(lowpos)*3)\n",
      "randpos = np.vstack((x_rand,y_rand,z_rand)).T\n",
      "Nsub = np.array([2,2,2])\n",
      "xi_low, cov_low = mo.tpcf_jackknife(lowpos, randpos, rbins=10**logbins, Nsub=Nsub, period=250.0)\n",
      "xi_high, cov_high = mo.tpcf_jackknife(highpos, randpos, rbins=10**logbins, Nsub=Nsub, period=250.0)\n",
      "error_low = (1./np.diag(cov_low))\n",
      "error_high = (1./np.diag(cov_high))\n",
      "yerr_low_low = np.maximum(1e-2, xi_low - error_low)\n",
      "yerr_high_low = xi_low + error_low\n",
      "yerr_low_high = np.maximum(1e-2, xi_high - error_high)\n",
      "yerr_high_high = xi_high + error_high\n",
      "\n",
      "ax = plt.subplot(111)\n",
      "plt.errorbar(10**binmids, xi_low, yerr=[yerr_low_low, yerr_high_low], fmt='b.')\n",
      "plt.errorbar(10**binmids, xi_high, yerr=[yerr_low_high, yerr_high_high], fmt='r.')\n",
      "ax.set_xscale('log')\n",
      "ax.set_yscale('log')"
     ],
     "language": "python",
     "metadata": {},
     "outputs": [
      {
       "metadata": {},
       "output_type": "display_data",
       "png": "[encoded data removed]",
       "text": [
        "<matplotlib.figure.Figure at 0x7f481c810350>"
       ]
      }
     ],
     "prompt_number": 102
    },
    {
     "cell_type": "code",
     "collapsed": false,
     "input": [
      "lowlim=int(floor(.04*len(spin_sort)))\n",
      "highlim=int(floor(.96*len(spin_sort)))\n",
      "low_spin_sort = spin_sort[0:lowlim]\n",
      "high_spin_sort = spin_sort[highlim:-1]\n",
      "lowpos = np.vstack((low_spin_sort['halo_x'], low_spin_sort['halo_y'], low_spin_sort['halo_z'])).T\n",
      "highpos = np.vstack((high_spin_sort['halo_x'], high_spin_sort['halo_y'], high_spin_sort['halo_z'])).T\n",
      "x_rand = 250. * np.random.random(len(lowpos)*3)\n",
      "y_rand = 250. * np.random.random(len(lowpos)*3)\n",
      "z_rand = 250. * np.random.random(len(lowpos)*3)\n",
      "randpos = np.vstack((x_rand,y_rand,z_rand)).T\n",
      "Nsub = np.array([2,2,2])\n",
      "xi_low, cov_low = mo.tpcf_jackknife(lowpos, randpos, rbins=10**logbins, Nsub=Nsub, period=250.0)\n",
      "xi_high, cov_high = mo.tpcf_jackknife(highpos, randpos, rbins=10**logbins, Nsub=Nsub, period=250.0)\n",
      "error_low = (1./np.diag(cov_low))\n",
      "error_high = (1./np.diag(cov_high))\n",
      "yerr_low_low = np.maximum(1e-2, xi_low - error_low)\n",
      "yerr_high_low = xi_low + error_low\n",
      "yerr_low_high = np.maximum(1e-2, xi_high - error_high)\n",
      "yerr_high_high = xi_high + error_high\n",
      "\n",
      "ax = plt.subplot(111)\n",
      "plt.errorbar(10**binmids, xi_low, yerr=[yerr_low_low, yerr_high_low], fmt='b.')\n",
      "plt.errorbar(10**binmids, xi_high, yerr=[yerr_low_high, yerr_high_high], fmt='r.')\n",
      "ax.set_xscale('log')\n",
      "ax.set_yscale('log')"
     ],
     "language": "python",
     "metadata": {},
     "outputs": [
      {
       "metadata": {},
       "output_type": "display_data",
       "png": "[encoded data removed]",
       "text": [
        "<matplotlib.figure.Figure at 0x7f481c125850>"
       ]
      }
     ],
     "prompt_number": 103
    },
    {
     "cell_type": "code",
     "collapsed": false,
     "input": [
      "lowlim=int(floor(.02*len(spin_sort)))\n",
      "highlim=int(floor(.98*len(spin_sort)))\n",
      "low_spin_sort = spin_sort[0:lowlim]\n",
      "high_spin_sort = spin_sort[highlim:-1]\n",
      "lowpos = np.vstack((low_spin_sort['halo_x'], low_spin_sort['halo_y'], low_spin_sort['halo_z'])).T\n",
      "highpos = np.vstack((high_spin_sort['halo_x'], high_spin_sort['halo_y'], high_spin_sort['halo_z'])).T\n",
      "x_rand = 250. * np.random.random(len(lowpos)*3)\n",
      "y_rand = 250. * np.random.random(len(lowpos)*3)\n",
      "z_rand = 250. * np.random.random(len(lowpos)*3)\n",
      "randpos = np.vstack((x_rand,y_rand,z_rand)).T\n",
      "Nsub = np.array([2,2,2])\n",
      "xi_low, cov_low = mo.tpcf_jackknife(lowpos, randpos, rbins=10**logbins, Nsub=Nsub, period=250.0)\n",
      "xi_high, cov_high = mo.tpcf_jackknife(highpos, randpos, rbins=10**logbins, Nsub=Nsub, period=250.0)\n",
      "error_low = (1./np.diag(cov_low))\n",
      "error_high = (1./np.diag(cov_high))\n",
      "yerr_low_low = np.maximum(1e-2, xi_low - error_low)\n",
      "yerr_high_low = xi_low + error_low\n",
      "yerr_low_high = np.maximum(1e-2, xi_high - error_high)\n",
      "yerr_high_high = xi_high + error_high\n",
      "\n",
      "ax = plt.subplot(111)\n",
      "plt.errorbar(10**binmids, xi_low, yerr=[yerr_low_low, yerr_high_low], fmt='b.')\n",
      "plt.errorbar(10**binmids, xi_high, yerr=[yerr_low_high, yerr_high_high], fmt='r.')\n",
      "ax.set_xscale('log')\n",
      "ax.set_yscale('log')"
     ],
     "language": "python",
     "metadata": {},
     "outputs": [
      {
       "metadata": {},
       "output_type": "display_data",
       "png": "[encoded data removed]",
       "text": [
        "<matplotlib.figure.Figure at 0x7f481bb4a710>"
       ]
      }
     ],
     "prompt_number": 104
    },
    {
     "cell_type": "code",
     "collapsed": false,
     "input": [],
     "language": "python",
     "metadata": {},
     "outputs": [],
     "prompt_number": 77
    }
   ],
   "metadata": {}
  }
 ]
}