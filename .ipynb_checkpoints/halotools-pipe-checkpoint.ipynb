{
 "metadata": {
  "name": "",
  "signature": "sha256:2a8905d5020df0853d717cc7db6538352139cb4f318405960eb79925184e95e7"
 },
 "nbformat": 3,
 "nbformat_minor": 0,
 "worksheets": [
  {
   "cells": [
    {
     "cell_type": "markdown",
     "metadata": {},
     "source": [
      "Primary goal is to define a function by which we give it a file name and mass threshold and the entirety of the calculation in terms of CFs, MCFs, and various cuts are output as a single data vector. We will start by assuming a value of fname and mthresh and go from there, and see what needs changing."
     ]
    },
    {
     "cell_type": "code",
     "collapsed": false,
     "input": [
      "# required imports for the function here\n",
      "import numpy as np\n",
      "import matplotlib.pyplot as plt\n",
      "import scipy.stats as stats\n",
      "import halotools.mock_observables as mo\n",
      "import halotools.sim_manager as sm"
     ],
     "language": "python",
     "metadata": {},
     "outputs": [],
     "prompt_number": 1
    },
    {
     "cell_type": "code",
     "collapsed": false,
     "input": [
      "fname = './z0.0.catalog' # file name to z0.0.catalog\n",
      "mthresh = 7e11  # threshold mass in Msun/h\n",
      "gnewton = 4.302e-6\n",
      "\n",
      "# define dict pointing to all marks of interest\n",
      "rs_dict = {'halo_id':(0,'i8'), 'halo_mass':(2,'f8'), 'halo_vmax':(3,'f8'), 'halo_rvir':(5,'f8'),\n",
      "           'halo_rs':(6,'f8'), 'halo_x':(8,'f8'), 'halo_y':(9,'f8'), 'halo_z':(10,'f8'),\n",
      "           'halo_spin':(17,'f8'), 'halo_ctoa':(28, 'f8'), 'halo_pid':(33,'i8'),\n",
      "           'halo_cnfw':(11,'f8'), 'halo_vratio':(12,'f8')}\n",
      "\n",
      "reader = sm.TabularAsciiReader(fname, rs_dict, row_cut_min_dict={'halo_mass':7e11},\n",
      "                               row_cut_eq_dict={'halo_pid':-1})\n",
      "hosts_data = reader.read_ascii()\n",
      "\n",
      "# add vratio mark\n",
      "vratio_temp = hosts_data['halo_vmax']/(np.sqrt(gnewton * hosts_data['halo_mass']/hosts_data['halo_rvir']))\n",
      "hosts_data['halo_vratio'] = vratio_temp\n",
      "cnfw_temp = hosts_data['halo_rvir']/hosts_data['halo_rs']\n",
      "hosts_data['halo_cnfw'] = cnfw_temp\n",
      "\n",
      "# now that we have data, we need to mass correct all of our marks\n",
      "mass_sort = np.sort(hosts_data, order='halo_mass')\n",
      "\n",
      "vratio_binned = stats.binned_statistic(np.log10(mass_sort['halo_mass']), mass_sort['halo_vratio'],\n",
      "                                       statistic='mean', bins=10)\n",
      "vratio_fix = mass_sort['halo_vratio']/vratio_binned.statistic[vratio_binned.binnumber-1]\n",
      "mass_sort['halo_vratio'] = vratio_fix\n",
      "\n",
      "cnfw_binned = stats.binned_statistic(np.log10(mass_sort['halo_mass']), mass_sort['halo_cnfw'],\n",
      "                                     statistic = 'mean', bins=10)\n",
      "cnfw_fix = mass_sort['halo_cnfw']/cnfw_binned.statistic[cnfw_binned.binnumber-1]\n",
      "mass_sort['halo_cnfw'] = cnfw_fix\n",
      "\n",
      "shape_binned = stats.binned_statistic(np.log10(mass_sort['halo_mass']), mass_sort['halo_ctoa'],\n",
      "                                      statistic='mean', bins=10)\n",
      "shape_fix = mass_sort['halo_ctoa']/shape_binned.statistic[shape_binned.binnumber-1]\n",
      "mass_sort['halo_ctoa'] = shape_fix\n",
      "\n",
      "spin_binned = stats.binned_statistic(np.log10(mass_sort['halo_mass']), mass_sort['halo_spin'],\n",
      "                                     statistic='mean', bins=10)\n",
      "spin_fix = mass_sort['halo_spin']/spin_binned.statistic[spin_binned.binnumber-1]\n",
      "\n",
      "# now all our marks have been fixed. First let's run through the marked correlation functions\n",
      "# then we can take various correlation function comparisons\n",
      "\n",
      "pos = np.vstack((mass_sort['halo_x'], mass_sort['halo_y'], mass_sort['halo_z'])).T\n",
      "\n",
      "minlog = np.log10(3.0)\n",
      "maxlog = np.log10(30.0)\n",
      "nstep = 30\n",
      "steplog = (maxlog - minlog) / (nstep - 1.)\n",
      "logbins = np.arange(minlog, maxlog+steplog, steplog)\n",
      "binmids = np.zeros(30)\n",
      "for i in range(0,nstep):\n",
      "    binmids[i] = (logbins[i]+logbins[i+1])/2.\n",
      "\n",
      "mcf_vratio = mo.marked_tpcf(pos, 10**logbins, marks1=mass_sort['halo_vratio'], period=250.0,\n",
      "                            normalize_by='number_counts', wfunc=1)\n",
      "mcfn_vratio = (mcf_vratio - np.mean(mass_sort['halo_vratio'])**2)/(np.var(mass_sort['halo_vratio']))\n",
      "\n",
      "# how we'll need to shuffle the marks N times, run the calculation N times,\n",
      "# and determine the min and max range of the mark calculation. So:\n",
      "nrand = 50\n",
      "mcf_vratio_rand = np.zeros((nstep, nrand))\n",
      "mcfn_vratio_rand = np.zeros((nstep, nrand))\n",
      "for i in range(0, nrand):\n",
      "    randmark = np.random.permutation(mass_sort['halo_vratio'])\n",
      "    mcf_vratio_rand[:,i] = mo.marked_tpcf(pos, 10**logbins, marks1=randmark, period=250.0,\n",
      "                                      normalize_by='number_counts', wfunc=1)\n",
      "    mcfn_vratio_rand[:,i] = (mcf_vratio_rand[:,i] - np.mean(randmark)**2)/(np.var(randmark))\n",
      "\n",
      "mcfn_vratio_min = np.zeros(nstep)\n",
      "mcfn_vratio_max = np.zeros(nstep)\n",
      "for i in range(0, nstep):\n",
      "    mcfn_vratio_min[i] = np.min(mcfn_vratio_rand[i,:])\n",
      "    mcfn_vratio_max[i] = np.max(mcfn_vratio_rand[i,:])"
     ],
     "language": "python",
     "metadata": {},
     "outputs": [
      {
       "output_type": "stream",
       "stream": "stdout",
       "text": [
        "\n",
        "...Processing ASCII data of file: \n",
        "/root/Documents/PROJECTS/HALOENVIRON/haloenviron-pipeline/z0.0.catalog\n",
        " \n",
        "Total number of rows in detected data = 2342337"
       ]
      },
      {
       "output_type": "stream",
       "stream": "stdout",
       "text": [
        "\n",
        "Number of rows in detected header = 15 \n",
        "\n",
        "... working on chunk 0 of 1\n",
        "Total runtime to read in ASCII = 16.62 seconds\n"
       ]
      },
      {
       "output_type": "stream",
       "stream": "stdout",
       "text": [
        "\n",
        "\u0007\n"
       ]
      }
     ],
     "prompt_number": 37
    },
    {
     "cell_type": "code",
     "collapsed": false,
     "input": [
      "plt.semilogx(10**binmids, mcfn_vratio, 'r-')\n",
      "plt.fill_between(10**binmids, mcfn_vratio_min, mcfn_vratio_max, facecolor='red', alpha=0.1)"
     ],
     "language": "python",
     "metadata": {},
     "outputs": [
      {
       "metadata": {},
       "output_type": "pyout",
       "prompt_number": 40,
       "text": [
        "<matplotlib.collections.PolyCollection at 0x7f7db78a0590>"
       ]
      },
      {
       "metadata": {},
       "output_type": "display_data",
       "png": "[encoded data removed]",
       "text": [
        "<matplotlib.figure.Figure at 0x7f7db78a0cd0>"
       ]
      }
     ],
     "prompt_number": 40
    },
    {
     "cell_type": "code",
     "collapsed": false,
     "input": [
      "\n"
     ],
     "language": "python",
     "metadata": {},
     "outputs": [
      {
       "output_type": "stream",
       "stream": "stdout",
       "text": [
        "[ 1.002565    0.8833687   0.84349236 ...,  0.97020077  1.02103124\n",
        "  0.97212657]\n"
       ]
      }
     ],
     "prompt_number": 35
    },
    {
     "cell_type": "code",
     "collapsed": false,
     "input": [],
     "language": "python",
     "metadata": {},
     "outputs": [],
     "prompt_number": 28
    },
    {
     "cell_type": "code",
     "collapsed": false,
     "input": [],
     "language": "python",
     "metadata": {},
     "outputs": []
    }
   ],
   "metadata": {}
  }
 ]
}